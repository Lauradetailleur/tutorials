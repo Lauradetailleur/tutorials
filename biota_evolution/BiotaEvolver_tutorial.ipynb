{
 "cells": [
  {
   "cell_type": "markdown",
   "metadata": {},
   "source": [
    "<a href=\"http://landlab.github.io\"><img style=\"float: left\" src=\"https://raw.githubusercontent.com/landlab/tutorials/master/landlab_header.png\"></a>\n"
   ]
  },
  {
   "cell_type": "markdown",
   "metadata": {},
   "source": [
    "# Using the Landlab BiotaEvolver component\n",
    "\n",
    "<hr>\n",
    "<small> For instructions on how to run an interactive iPython notebook, click here: <a href=\"https://github.com/landlab/tutorials/blob/master/README.md\">https://github.com/landlab/tutorials/blob/master/README.md</a></small><br>\n",
    "<small>For more Landlab tutorials, click here: <a href=\"https://github.com/landlab/landlab/wiki/Tutorials\">https://github.com/landlab/landlab/wiki/Tutorials</a></small>\n",
    "<hr>\n",
    "\n",
    "In this tutorial we will:\n",
    "* Introduce species into a Landlab model.\n",
    "* Set the zones in which the species operate.\n",
    "* Evolve a landscape and the species over time.\n",
    "* Explore BiotaEvolver output data structures.\n",
    "\n",
    "This tutorial loosely follows the fault throw experiment in Lyons et al., in preperation for Earth Surface Dynamics."
   ]
  },
  {
   "cell_type": "markdown",
   "metadata": {},
   "source": [
    "Import modules."
   ]
  },
  {
   "cell_type": "code",
   "execution_count": 1,
   "metadata": {},
   "outputs": [],
   "source": [
    "from landlab import RasterModelGrid, CLOSED_BOUNDARY, FIXED_VALUE_BOUNDARY\n",
    "from landlab.components import (BiotaEvolver, FastscapeEroder, FlowRouter,\n",
    "                                LinearDiffuser, NormalFault)\n",
    "from landlab.components.biota_macroevolution import Species, Zone\n",
    "import numpy as np"
   ]
  },
  {
   "cell_type": "markdown",
   "metadata": {},
   "source": [
    "A bit of magic so that we can plot within this notebook."
   ]
  },
  {
   "cell_type": "code",
   "execution_count": null,
   "metadata": {
    "collapsed": true
   },
   "outputs": [],
   "source": [
    "from __future__ import print_function\n",
    "%matplotlib inline"
   ]
  },
  {
   "cell_type": "markdown",
   "metadata": {},
   "source": [
    "## This\n",
    "\n",
    "Here we will do this."
   ]
  },
  {
   "cell_type": "markdown",
   "metadata": {},
   "source": [
    "## That\n",
    "\n",
    "Now we will do that."
   ]
  },
  {
   "cell_type": "markdown",
   "metadata": {},
   "source": [
    "## Species identifiers and phylogenetic trees\n",
    "\n",
    "Species identifiers are automatically generated. They are stored as tuples in species objects. The first element of the identifier tuple is the clade name, and the second element is the species number. For example, the first species of clade A is 0, so the identifier is (A, 0) and the tenth species of this clade is (A, 9).\n",
    "\n",
    "### Clade name\n",
    "\n",
    "A clade is a group of species that share a common ancestor. Species may share multiple common ancestors, so clades can be defined differently in the same tree. The clade(s) of this example tree can be defined in multiple ways:\n",
    "\n",
    "![](images/clade_definitions.png)\n",
    "\n",
    "In BiotaEvolver, clades are defined by the root node for the purpose of assigning species identifiers. The species at the root node is:\n",
    "* the least recent common ancestor of all species in the tree, and\n",
    "* typically introduced to a BiotaEvolver model using the ```introduce_species``` function.\n",
    "\n",
    "The clades of the first 26 species are labeled alphabetically from A to Z. The next 26 are labeled AB thru AZ. \n",
    "\n",
    "1-26: A to Z\n",
    "27-53: AA to AZ\n",
    "BA to BZ\n",
    "...\n",
    "AAA to AAZ\n",
    "ABA to ABZ\n",
    "ACA to ACZ\n",
    "\n",
    "### Species number\n",
    "\n",
    "Species are numbered sequently by clade beginning with 0.\n",
    "\n",
    "In the example tree below, species A0 produced 4 child species. Only one species, B0 exists in clade B because child species were not produced by B0.\n",
    "\n",
    "![](images/species_number.png)"
   ]
  },
  {
   "cell_type": "markdown",
   "metadata": {},
   "source": [
    "### Click here for more <a href=\"https://github.com/landlab/landlab/wiki/Tutorials\">Landlab tutorials</a>"
   ]
  }
 ],
 "metadata": {
  "kernelspec": {
   "display_name": "Python 3",
   "language": "python",
   "name": "python3"
  },
  "language_info": {
   "codemirror_mode": {
    "name": "ipython",
    "version": 3
   },
   "file_extension": ".py",
   "mimetype": "text/x-python",
   "name": "python",
   "nbconvert_exporter": "python",
   "pygments_lexer": "ipython3",
   "version": "3.6.5"
  }
 },
 "nbformat": 4,
 "nbformat_minor": 1
}
