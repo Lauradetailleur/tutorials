{
 "cells": [
  {
   "cell_type": "markdown",
   "metadata": {},
   "source": [
    "<a href=\"http://landlab.github.io\"><img style=\"float: left\" src=\"https://raw.githubusercontent.com/landlab/tutorials/master/landlab_header.png\"></a>\n"
   ]
  },
  {
   "cell_type": "markdown",
   "metadata": {},
   "source": [
    "# Using the Landlab BiotaEvolver component\n",
    "\n",
    "<hr>\n",
    "<small> For instructions on how to run an interactive iPython notebook, click here: <a href=\"https://github.com/landlab/tutorials/blob/master/README.md\">https://github.com/landlab/tutorials/blob/master/README.md</a></small><br>\n",
    "<small>For more Landlab tutorials, click here: <a href=\"https://github.com/landlab/landlab/wiki/Tutorials\">https://github.com/landlab/landlab/wiki/Tutorials</a></small>\n",
    "<hr>\n",
    "\n",
    "In this tutorial we will:\n",
    "* Introduce species into a Landlab model.\n",
    "* Set the zones in which the species operate.\n",
    "* Evolve a landscape and the species over time.\n",
    "* Explore BiotaEvolver output data structures.\n",
    "\n",
    "The configuration of the model in this tutorial loosely follows the fault throw experiment in Lyons et al., in preperation for Earth Surface Dynamics.\n",
    "\n",
    "## Macroevolution processes built into species\n",
    "\n",
    "The evolution of the base species is driven by these processes:\n",
    "* dispersal: geographic range expansion\n",
    "* speciation: lineage splitting\n",
    "* extinction: lineage termination"
   ]
  },
  {
   "cell_type": "markdown",
   "metadata": {},
   "source": [
    "Import modules and set the environment to show plots inline in this notebook."
   ]
  },
  {
   "cell_type": "code",
   "execution_count": null,
   "metadata": {},
   "outputs": [],
   "source": [
    "from landlab import CLOSED_BOUNDARY, FIXED_VALUE_BOUNDARY\n",
    "from landlab.components import (BiotaEvolver, FastscapeEroder, FlowRouter,\n",
    "                                LinearDiffuser)\n",
    "from landlab.components.biota_macroevolution import plot, Species, Zone\n",
    "from landlab.io import read_esri_ascii\n",
    "from landlab.plot import imshow_grid\n",
    "import matplotlib.pyplot as plt\n",
    "import numpy as np\n",
    "\n",
    "%matplotlib inline"
   ]
  },
  {
   "cell_type": "markdown",
   "metadata": {},
   "source": [
    "## Prepare the grid and components of the model."
   ]
  },
  {
   "cell_type": "markdown",
   "metadata": {},
   "source": [
    "Load a model grid that has steady state topography. The top and bottom boundaries are set to open."
   ]
  },
  {
   "cell_type": "code",
   "execution_count": null,
   "metadata": {},
   "outputs": [],
   "source": [
    "(mg, z) = read_esri_ascii('model_grid_steady_state_elevation.txt')\n",
    "mg.at_node['topographic__elevation'] = z\n",
    "mg.set_status_at_node_on_edges(right=CLOSED_BOUNDARY, top=FIXED_VALUE_BOUNDARY,\n",
    "                               left=CLOSED_BOUNDARY,\n",
    "                               bottom=FIXED_VALUE_BOUNDARY)"
   ]
  },
  {
   "cell_type": "markdown",
   "metadata": {},
   "source": [
    "Initialize components. BiotaEvolver requires only one parameter, a model grid."
   ]
  },
  {
   "cell_type": "code",
   "execution_count": null,
   "metadata": {},
   "outputs": [],
   "source": [
    "fr = FlowRouter(mg)\n",
    "sp = FastscapeEroder(mg, K_sp=10e-5, m_sp=0.5, n_sp=1.0)\n",
    "lf = LinearDiffuser(mg, linear_diffusivity=0.0001)\n",
    "be = BiotaEvolver(mg)"
   ]
  },
  {
   "cell_type": "markdown",
   "metadata": {},
   "source": [
    "## Prepare BiotaEvolver objects\n",
    "\n",
    "Species and zones are the two object types central to BiotaEvolver.\n",
    "\n",
    "### Zones\n",
    "\n",
    "Zones are portions of a model grid. A Species object exists throughout a zone.\n",
    "\n",
    "At each timestep, the spatial intersection of the zones at the prior time and current time are identified and typed. For example, a zone in the prior time intersects two zones in the current time. This zone path is typed one-to-many.\n",
    "\n",
    "Macroevolutionary processes are carried out by the intersection of zones over time. The connectivity of zones in BiotaEvolver are called 'paths', and the relationship of zones is described by the path type. Not all combinations of none, one, and many are considered at the time of this tutorial. All none-to-n and some many-to-n are not considered. \n",
    "\n",
    "<img style=\"float: left;\" src=\"images/zone__one_to_none.png\"> &nbsp; zone<sub>*t*</sub>: a zone in time, *t*.<br>\n",
    "\n",
    "<img style=\"float: left;\" src=\"images/zone__later_time.png\"> &nbsp; zone<sub>*t*+1</sub>: a zone in the time following *t*.\n",
    "\n",
    "<center>path type</center> | <center>graphical<br>represention</center> | <center>zone temporal connectivity</center> | <center>macroevolution implications</center>\n",
    "--- | --- | --- | ---\n",
    "one-to-none | ![](images/zone__one_to_none.png) | zone<sub>*t*</sub> does not intersect a zone in *t*+1. | The species in the zone of the earlier time will go extinct. \n",
    "one-to-one | ![](images/zone__one_to_one.png) | zone<sub>*t*</sub> intersects zone<sub>*t*+1</sub>. | The species in the zone of the earlier time will relocate to the zone of the later time.\n",
    "one-to-many | ![](images/zone__one_to_many.png) | zone<sub>*t*</sub> intersects multiple zones in *t*+1. | The species in the zone of the earlier time disperses across the multiple zones in the later time. The species in the zones of the later time are geographical disconnected, thus speciation occurs.\n",
    "many-to-one | ![](images/zone__many_to_one.png) | Multiple zones in *t* intersect zone<sub>*t*+1</sub>. | Species density increases locally.\n",
    "many-to-many | ![](images/zone__many_to_many.png) | Multiple zones in *t* intersect multiple zones in *t*+1. | Species distribution shifts. Speciation occurs where the zone of a species at *t* intersects more than one zone at *t*+1.\n",
    "\n",
    "### Species\n",
    "\n",
    "The model domain is populated with species by the user.\n",
    "\n",
    "The rules of macroevolution are programmed into species. Behind the scenes, zone paths are the conditions evaluated by the macroevolution rules. The outcome of the rules given the zone paths are described in the zone table above. For example, a one-to-many path:\n",
    "\n",
    "![](images/zone_path__one_to_many.png)\n",
    "\n",
    "The base species class \n",
    "\n",
    "Users may develop species with different behaviors and macroevolution rules.\n",
    "\n",
    "\n",
    "\n",
    "\n",
    "\n",
    "Populate BiotaEvolver zones with species.\n"
   ]
  },
  {
   "cell_type": "code",
   "execution_count": null,
   "metadata": {},
   "outputs": [],
   "source": [
    "fr.run_one_step()\n",
    "\n",
    "min_stream_area = 1e6\n",
    "zones = Zone.get_zones_with_area_threshold(mg, min_stream_area)\n",
    "for zone in zones:\n",
    "    new_species = Species(0, zone)\n",
    "    be.introduce_species(new_species, 0)"
   ]
  },
  {
   "cell_type": "markdown",
   "metadata": {},
   "source": [
    "## Initiate a fault"
   ]
  },
  {
   "cell_type": "markdown",
   "metadata": {},
   "source": [
    "Define the fault."
   ]
  },
  {
   "cell_type": "code",
   "execution_count": null,
   "metadata": {},
   "outputs": [],
   "source": [
    "grid_width = mg.number_of_node_columns * mg.dx\n",
    "x_of_fault = grid_width * 0.5\n",
    "core_mask = mg.node_is_core()\n",
    "upthown_nodes = mg.x_of_node >= x_of_fault\n",
    "upthown_block_mask = np.all([core_mask, upthown_nodes], 0)\n",
    "\n",
    "imshow_grid(mg, 'topographic__elevation')"
   ]
  },
  {
   "cell_type": "markdown",
   "metadata": {},
   "source": [
    "Uplift the nodes of the upthrown block by 20 m."
   ]
  },
  {
   "cell_type": "code",
   "execution_count": null,
   "metadata": {},
   "outputs": [],
   "source": [
    "z[upthown_block_mask] += 20"
   ]
  },
  {
   "cell_type": "markdown",
   "metadata": {},
   "source": [
    "## Model species evolution\n",
    "\n",
    "First, set model time step and uplift parameters.\n",
    "\n",
    "BiotaEvolver runs every 10 timesteps of the other components."
   ]
  },
  {
   "cell_type": "code",
   "execution_count": null,
   "metadata": {},
   "outputs": [],
   "source": [
    "dt = 1000\n",
    "total_time = int(1e5)\n",
    "nt = int(total_time // dt)\n",
    "\n",
    "dt_be = 10 * dt\n",
    "\n",
    "uplift_rate = 7e-5\n",
    "uplift_per_step = uplift_rate * dt"
   ]
  },
  {
   "cell_type": "markdown",
   "metadata": {},
   "source": [
    "Run model. The ```run_one_step``` function of BiotaEvolver takes the new zones of the time step.\n",
    "\n",
    "This code block may take a couple minutes to run."
   ]
  },
  {
   "cell_type": "code",
   "execution_count": null,
   "metadata": {},
   "outputs": [],
   "source": [
    "for time_i in range(nt):\n",
    "    # Uniformly uplift.\n",
    "    z[mg.core_nodes] += uplift_per_step\n",
    "\n",
    "    # Increment earth surface process components.\n",
    "    fr.run_one_step()\n",
    "    sp.run_one_step(dt)\n",
    "    lf.run_one_step(dt)\n",
    "\n",
    "    elapsed_time = dt * (time_i + 1)\n",
    "\n",
    "    if elapsed_time % dt_be == 0:\n",
    "        # Run BiotaEvolver with updated zones.\n",
    "        zones = Zone.get_zones_with_area_threshold(mg, min_stream_area)\n",
    "        be.run_one_step(elapsed_time, zones)"
   ]
  },
  {
   "cell_type": "markdown",
   "metadata": {},
   "source": [
    "## Plot results\n",
    "\n"
   ]
  },
  {
   "cell_type": "code",
   "execution_count": null,
   "metadata": {},
   "outputs": [],
   "source": [
    "plt.subplot(1, 2, 1)\n",
    "imshow_grid(mg, 'topographic__elevation', colorbar_label='elevation (m)')\n",
    "\n",
    "plt.subplot(1, 2, 2)\n",
    "plot.imshow_zones(mg, zones)\n",
    "\n",
    "plot.plot_number_of_species(be.record, be.species)"
   ]
  },
  {
   "cell_type": "code",
   "execution_count": null,
   "metadata": {},
   "outputs": [],
   "source": []
  },
  {
   "cell_type": "markdown",
   "metadata": {},
   "source": [
    "## Species identifiers and phylogenetic trees\n",
    "\n",
    "Species identifiers are automatically generated. They are stored as tuples in species objects. The first element of the identifier tuple is the clade name, and the second element is the species number. For example, the first species of clade A is 0, so the identifier is (A, 0) and the tenth species of this clade is (A, 9).\n",
    "\n",
    "### Clade name\n",
    "\n",
    "A clade is a group of species that share a common ancestor. Species may share multiple common ancestors, so clades can be defined differently in the same tree. The clade(s) of this example tree can be defined in multiple ways:\n",
    "\n",
    "![](images/clade_definitions.png)\n",
    "\n",
    "In BiotaEvolver, clades are defined by the root node for the purpose of assigning species identifiers. The species at the root node is:\n",
    "* the least recent common ancestor of all species in the tree, and\n",
    "* typically introduced to a BiotaEvolver model using the ```introduce_species``` function.\n",
    "\n",
    "The clades of the first 26 species are named alphabetically from A to Z. The alphabet is repeated for subsequent species following this schema:\n",
    "\n",
    "<center>clade sequence</center> | <center>clade name</center>\n",
    "--- | ---\n",
    "1–26 | A–Z\n",
    "27–52 | AA–AZ\n",
    "53–78 | BA–BZ\n",
    "... | ...\n",
    "703–728 | AAA–AAZ\n",
    "729–754 | ABA–ABZ\n",
    "... | ...\n",
    "\n",
    "### Species number\n",
    "\n",
    "Species are numbered sequently by clade beginning with 0.\n",
    "\n",
    "In the example tree below, species A0 produced 4 child species. Only one species, B0 exists in clade B because child species were not produced by B0.\n",
    "\n",
    "![](images/species_number.png)"
   ]
  },
  {
   "cell_type": "markdown",
   "metadata": {},
   "source": [
    "## DataFrames\n",
    "\n",
    "Data are stored in Pandas DataFrames."
   ]
  },
  {
   "cell_type": "code",
   "execution_count": null,
   "metadata": {},
   "outputs": [],
   "source": [
    "be.species"
   ]
  },
  {
   "cell_type": "code",
   "execution_count": null,
   "metadata": {},
   "outputs": [],
   "source": [
    "be.zones"
   ]
  },
  {
   "cell_type": "code",
   "execution_count": null,
   "metadata": {},
   "outputs": [],
   "source": [
    "be.zone_paths"
   ]
  },
  {
   "cell_type": "markdown",
   "metadata": {},
   "source": [
    "### Record DataFrames\n",
    "\n",
    "Instances of BiotaEvolver, species, and zones each have DataFrames called ```record```. Rows are data stored at each time the model is ran.\n",
    "\n",
    "Examine the BiotaEvolver record."
   ]
  },
  {
   "cell_type": "code",
   "execution_count": null,
   "metadata": {},
   "outputs": [],
   "source": [
    "be.record"
   ]
  },
  {
   "cell_type": "markdown",
   "metadata": {},
   "source": [
    "Examine the record of a species."
   ]
  },
  {
   "cell_type": "code",
   "execution_count": null,
   "metadata": {},
   "outputs": [],
   "source": [
    "s = be.species.iloc[0].object\n",
    "s.record"
   ]
  },
  {
   "cell_type": "markdown",
   "metadata": {},
   "source": [
    "Examine the record of a zone."
   ]
  },
  {
   "cell_type": "code",
   "execution_count": null,
   "metadata": {},
   "outputs": [],
   "source": [
    "z = be.zones.iloc[0].object\n",
    "z.record"
   ]
  },
  {
   "cell_type": "markdown",
   "metadata": {},
   "source": [
    "### Click here for more <a href=\"https://github.com/landlab/landlab/wiki/Tutorials\">Landlab tutorials</a>"
   ]
  }
 ],
 "metadata": {
  "kernelspec": {
   "display_name": "Python 3",
   "language": "python",
   "name": "python3"
  },
  "language_info": {
   "codemirror_mode": {
    "name": "ipython",
    "version": 3
   },
   "file_extension": ".py",
   "mimetype": "text/x-python",
   "name": "python",
   "nbconvert_exporter": "python",
   "pygments_lexer": "ipython3",
   "version": "3.6.5"
  }
 },
 "nbformat": 4,
 "nbformat_minor": 1
}
