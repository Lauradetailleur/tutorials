{
 "cells": [
  {
   "cell_type": "markdown",
   "metadata": {},
   "source": [
    "<a href=\"http://landlab.github.io\"><img style=\"float: left\" src=\"https://raw.githubusercontent.com/landlab/tutorials/master/landlab_header.png\"></a>\n"
   ]
  },
  {
   "cell_type": "markdown",
   "metadata": {},
   "source": [
    "# Using the Landlab BiotaEvolver component\n",
    "\n",
    "<hr>\n",
    "<small> For instructions on how to run an interactive iPython notebook, click here: <a href=\"https://github.com/landlab/tutorials/blob/master/README.md\">https://github.com/landlab/tutorials/blob/master/README.md</a></small><br>\n",
    "<small>For more Landlab tutorials, click here: <a href=\"https://github.com/landlab/landlab/wiki/Tutorials\">https://github.com/landlab/landlab/wiki/Tutorials</a></small>\n",
    "<hr>\n",
    "\n",
    "In this tutorial we will:\n",
    "* Introduce species into a Landlab model.\n",
    "* Set the zones in which the species operate.\n",
    "* Evolve a landscape and the species over time.\n",
    "* Explore BiotaEvolver output data structures.\n",
    "\n",
    "The configuration of the model in this tutorial loosely follows the fault throw experiment in Lyons et al., in preperation for Earth Surface Dynamics."
   ]
  },
  {
   "cell_type": "markdown",
   "metadata": {},
   "source": [
    "Import modules and set the environment to show plots inline in this notebook."
   ]
  },
  {
   "cell_type": "code",
   "execution_count": 7,
   "metadata": {},
   "outputs": [],
   "source": [
    "from copy import deepcopy\n",
    "from landlab import RasterModelGrid, CLOSED_BOUNDARY, FIXED_VALUE_BOUNDARY\n",
    "from landlab.components import (BiotaEvolver, FastscapeEroder, FlowRouter,\n",
    "                                LinearDiffuser)\n",
    "from landlab.components.biota_macroevolution import Species, Zone\n",
    "import numpy as np\n",
    "\n",
    "%matplotlib inline"
   ]
  },
  {
   "cell_type": "markdown",
   "metadata": {},
   "source": [
    "## Create a model grid with steady state topography\n",
    "\n",
    "Here, the topography of a Landlab model grid brought to topographic steady state."
   ]
  },
  {
   "cell_type": "markdown",
   "metadata": {},
   "source": [
    "Create a grid with random initial topography."
   ]
  },
  {
   "cell_type": "code",
   "execution_count": 2,
   "metadata": {},
   "outputs": [],
   "source": [
    "dx = 200\n",
    "nrows = 100\n",
    "ncols = 20\n",
    "mg_ss = RasterModelGrid(nrows, ncols, dx)\n",
    "mg_ss.set_status_at_node_on_edges(right=CLOSED_BOUNDARY,\n",
    "                                  top=FIXED_VALUE_BOUNDARY,\n",
    "                                  left=CLOSED_BOUNDARY,\n",
    "                                  bottom=FIXED_VALUE_BOUNDARY)\n",
    "z_ss = mg_ss.add_zeros('node', 'topographic__elevation')\n",
    "np.random.seed(500)\n",
    "z_ss += np.random.rand(z_ss.size)"
   ]
  },
  {
   "cell_type": "markdown",
   "metadata": {},
   "source": [
    "Set parameters and initialize components."
   ]
  },
  {
   "cell_type": "code",
   "execution_count": 3,
   "metadata": {},
   "outputs": [],
   "source": [
    "dt = 1000\n",
    "total_time = int(4e6)\n",
    "t = range(0, total_time, dt)\n",
    "U = 7e-5\n",
    "uplift_per_step = U * dt\n",
    "\n",
    "# Set stream power model parameters.\n",
    "K_sp = 10e-5\n",
    "m_sp = 0.5\n",
    "n_sp = 1\n",
    "\n",
    "k_d = 0.0001\n",
    "\n",
    "fr = FlowRouter(mg_ss)\n",
    "sp = FastscapeEroder(mg_ss, K_sp=K_sp, m_sp=m_sp, n_sp=n_sp)\n",
    "lf = LinearDiffuser(mg_ss, linear_diffusivity=k_d, deposit=False)"
   ]
  },
  {
   "cell_type": "markdown",
   "metadata": {},
   "source": [
    "Run the model until topography reaches steady state (ss)."
   ]
  },
  {
   "cell_type": "code",
   "execution_count": 4,
   "metadata": {},
   "outputs": [],
   "source": [
    "for t_i in t:\n",
    "    z_ss[mg_ss.core_nodes] += uplift_per_step\n",
    "\n",
    "    fr.run_one_step()\n",
    "    sp.run_one_step(dt)\n",
    "    lf.run_one_step(dt)"
   ]
  },
  {
   "cell_type": "markdown",
   "metadata": {},
   "source": [
    "## Fault the grid and evolve species"
   ]
  },
  {
   "cell_type": "markdown",
   "metadata": {},
   "source": [
    "Create a copy of the steady state grid."
   ]
  },
  {
   "cell_type": "code",
   "execution_count": 8,
   "metadata": {},
   "outputs": [],
   "source": [
    "mg = deepcopy(mg_ss)\n",
    "z = mg.at_node['topographic__elevation']"
   ]
  },
  {
   "cell_type": "markdown",
   "metadata": {},
   "source": [
    "Define the fault."
   ]
  },
  {
   "cell_type": "code",
   "execution_count": 9,
   "metadata": {},
   "outputs": [],
   "source": [
    "grid_width = mg.number_of_node_columns * mg.dx\n",
    "x_of_fault = grid_width * 0.5\n",
    "core_mask = mg.node_is_core()\n",
    "upthown_block_mask = mg.x_of_node >= x_of_fault\n",
    "upthown_block_mask = np.all([core_mask, upthown_block_mask], 0)\n",
    "z[upthown_block_mask] += 100"
   ]
  },
  {
   "cell_type": "markdown",
   "metadata": {},
   "source": [
    "Initialize components."
   ]
  },
  {
   "cell_type": "code",
   "execution_count": 10,
   "metadata": {},
   "outputs": [],
   "source": [
    "fr = FlowRouter(mg)\n",
    "sp = FastscapeEroder(mg, K_sp=K_sp, m_sp=m_sp, n_sp=n_sp)\n",
    "lf = LinearDiffuser(mg, linear_diffusivity=k_d, deposit=False)\n",
    "\n",
    "be = BiotaEvolver(mg)\n",
    "dt_be = 1e5"
   ]
  },
  {
   "cell_type": "markdown",
   "metadata": {},
   "source": [
    "Species and zones are the two object types central to BiotaEvolver.\n",
    "\n",
    "### Zones\n",
    "\n",
    "Zones are portions of a model grid. A Species object exists throughout a zone.\n",
    "\n",
    "At each timestep, the spatial intersection of the zones at the prior time and current time are identified and typed. For example, a zone in the prior time intersects two zones in the current time. This zone path is typed one-to-many.\n",
    "\n",
    "Macroevolutionary processes are carried out by the intersection of zones over time. The connectivity of zones in BiotaEvolver are called 'paths', and the relationship of zones is described by the path type. Not all combinations of none, one, and many are considered at the time of this tutorial. All none-to-n and some many-to-n are not considered. \n",
    "\n",
    "<img style=\"float: left;\" src=\"images/zone__one_to_none.png\"> &nbsp; zone<sub>*t*</sub>: a zone in time, *t*.<br>\n",
    "\n",
    "<img style=\"float: left;\" src=\"images/zone__later_time.png\"> &nbsp; zone<sub>*t*+1</sub>: a zone in the time following *t*.\n",
    "\n",
    "<center>path type</center> | <center>graphical<br>represention</center> | <center>zone temporal connectivity</center> | <center>macroevolution implications</center>\n",
    "--- | --- | --- | ---\n",
    "one-to-none | ![](images/zone__one_to_none.png) | zone<sub>*t*</sub> does not intersect a zone in *t*+1. | The species in the zone of the earlier time will go extinct. \n",
    "one-to-one | ![](images/zone__one_to_one.png) | zone<sub>*t*</sub> intersects zone<sub>*t*+1</sub>. | The species in the zone of the earlier time will relocate to the zone of the later time.\n",
    "one-to-many | ![](images/zone__one_to_many.png) | zone<sub>*t*</sub> intersects multiple zones in *t*+1. | The species in the zone of the earlier time disperses across the multiple zones in the later time. The species in the zones of the later time are geographical disconnected, thus speciation occurs.\n",
    "many-to-one | ![](images/zone__many_to_one.png) | Multiple zones in *t* intersect zone<sub>*t*+1</sub>. | Species density increases locally.\n",
    "many-to-many | ![](images/zone__many_to_many.png) | Multiple zones in *t* intersect multiple zones in *t*+1. | Species distribution shifts. Speciation occurs where the zone of a species at *t* intersects more than one zone at *t*+1.\n",
    "\n",
    "### Species\n",
    "\n",
    "The model domain is populated with species by the user.\n",
    "\n",
    "The rules of macroevolution are programmed into species. Behind the scenes, zone paths are the conditions evaluated by the macroevolution rules. The outcome of the rules given the zone paths are described in the zone table above. For example, a one-to-many path:\n",
    "\n",
    "![](images/zone_path__one_to_many.png)\n",
    "\n",
    "The base species class \n",
    "\n",
    "Users may develop species with different behaviors and macroevolution rules.\n",
    "\n",
    "\n",
    "\n",
    "\n",
    "\n",
    "Populate BiotaEvolver zones with species.\n"
   ]
  },
  {
   "cell_type": "code",
   "execution_count": 11,
   "metadata": {},
   "outputs": [],
   "source": [
    "min_stream_area = 1e6\n",
    "zones = Zone.get_zones_with_area_threshold(mg, min_stream_area)\n",
    "for zone in zones:\n",
    "    new_species = Species(0, zone)\n",
    "    be.introduce_species(new_species, 0)"
   ]
  },
  {
   "cell_type": "markdown",
   "metadata": {},
   "source": [
    "Run model. The ```run_one_step``` function of BiotaEvolver takes the new zones of the time step."
   ]
  },
  {
   "cell_type": "code",
   "execution_count": 12,
   "metadata": {},
   "outputs": [
    {
     "name": "stdout",
     "output_type": "stream",
     "text": [
      "BiotaEvolver time 100000 ---------------------------\n",
      "many-to-one\n",
      "many-to-many\n",
      "many-to-one\n",
      "one-to-one\n",
      "many-to-many\n",
      "BiotaEvolver time 200000 ---------------------------\n",
      "many-to-one\n",
      "many-to-one\n",
      "many-to-one\n",
      "many-to-one\n",
      "many-to-one\n",
      "many-to-one\n",
      "many-to-one\n",
      "many-to-one\n",
      "BiotaEvolver time 300000 ---------------------------\n",
      "many-to-one\n",
      "many-to-one\n",
      "many-to-one\n",
      "many-to-one\n",
      "many-to-one\n",
      "many-to-one\n",
      "many-to-one\n",
      "many-to-one\n",
      "BiotaEvolver time 400000 ---------------------------\n",
      "many-to-one\n",
      "many-to-one\n",
      "many-to-one\n",
      "many-to-one\n",
      "many-to-one\n",
      "many-to-one\n",
      "many-to-one\n",
      "many-to-one\n",
      "BiotaEvolver time 500000 ---------------------------\n",
      "many-to-one\n",
      "many-to-one\n",
      "many-to-one\n",
      "many-to-one\n",
      "many-to-one\n",
      "many-to-one\n",
      "many-to-one\n",
      "many-to-one\n"
     ]
    }
   ],
   "source": [
    "total_time = 5e5\n",
    "nt = int(total_time // dt)\n",
    "for time_i in range(nt):\n",
    "    # Uniformly uplift.\n",
    "    z[mg.core_nodes] += uplift_per_step\n",
    "\n",
    "    # Increment earth surface process components.\n",
    "    fr.run_one_step()\n",
    "    sp.run_one_step(dt)\n",
    "    lf.run_one_step(dt)\n",
    "\n",
    "    elapsed_time = dt * (time_i + 1)\n",
    "\n",
    "    if elapsed_time % dt_be == 0:\n",
    "        # Run BiotaEvolver with updated zones.\n",
    "        print('BiotaEvolver time', elapsed_time, '---------------------------')\n",
    "        zones = Zone.get_zones_with_area_threshold(mg, min_stream_area)\n",
    "        be.run_one_step(elapsed_time, zones)"
   ]
  },
  {
   "cell_type": "markdown",
   "metadata": {},
   "source": [
    "Show species DataFrame."
   ]
  },
  {
   "cell_type": "code",
   "execution_count": 17,
   "metadata": {},
   "outputs": [
    {
     "data": {
      "text/html": [
       "<div>\n",
       "<style scoped>\n",
       "    .dataframe tbody tr th:only-of-type {\n",
       "        vertical-align: middle;\n",
       "    }\n",
       "\n",
       "    .dataframe tbody tr th {\n",
       "        vertical-align: top;\n",
       "    }\n",
       "\n",
       "    .dataframe thead th {\n",
       "        text-align: right;\n",
       "    }\n",
       "</style>\n",
       "<table border=\"1\" class=\"dataframe\">\n",
       "  <thead>\n",
       "    <tr style=\"text-align: right;\">\n",
       "      <th></th>\n",
       "      <th></th>\n",
       "      <th>time_appeared</th>\n",
       "      <th>time_disappeared</th>\n",
       "      <th>subtype</th>\n",
       "      <th>object</th>\n",
       "    </tr>\n",
       "    <tr>\n",
       "      <th>clade</th>\n",
       "      <th>number</th>\n",
       "      <th></th>\n",
       "      <th></th>\n",
       "      <th></th>\n",
       "      <th></th>\n",
       "    </tr>\n",
       "  </thead>\n",
       "  <tbody>\n",
       "    <tr>\n",
       "      <th>A</th>\n",
       "      <th>0</th>\n",
       "      <td>0</td>\n",
       "      <td>NaN</td>\n",
       "      <td>base</td>\n",
       "      <td>&lt;Species at 0x1c150a58d0&gt;</td>\n",
       "    </tr>\n",
       "    <tr>\n",
       "      <th>B</th>\n",
       "      <th>0</th>\n",
       "      <td>0</td>\n",
       "      <td>100000</td>\n",
       "      <td>base</td>\n",
       "      <td>&lt;Species at 0x1c15090a58&gt;</td>\n",
       "    </tr>\n",
       "    <tr>\n",
       "      <th>C</th>\n",
       "      <th>0</th>\n",
       "      <td>0</td>\n",
       "      <td>NaN</td>\n",
       "      <td>base</td>\n",
       "      <td>&lt;Species at 0x1c15098128&gt;</td>\n",
       "    </tr>\n",
       "    <tr>\n",
       "      <th>D</th>\n",
       "      <th>0</th>\n",
       "      <td>0</td>\n",
       "      <td>NaN</td>\n",
       "      <td>base</td>\n",
       "      <td>&lt;Species at 0x1c150afef0&gt;</td>\n",
       "    </tr>\n",
       "    <tr>\n",
       "      <th>E</th>\n",
       "      <th>0</th>\n",
       "      <td>0</td>\n",
       "      <td>100000</td>\n",
       "      <td>base</td>\n",
       "      <td>&lt;Species at 0x1c150afe10&gt;</td>\n",
       "    </tr>\n",
       "    <tr>\n",
       "      <th rowspan=\"2\" valign=\"top\">B</th>\n",
       "      <th>1</th>\n",
       "      <td>100000</td>\n",
       "      <td>NaN</td>\n",
       "      <td>base</td>\n",
       "      <td>&lt;Species at 0x1c15150048&gt;</td>\n",
       "    </tr>\n",
       "    <tr>\n",
       "      <th>2</th>\n",
       "      <td>100000</td>\n",
       "      <td>NaN</td>\n",
       "      <td>base</td>\n",
       "      <td>&lt;Species at 0x1c15150278&gt;</td>\n",
       "    </tr>\n",
       "    <tr>\n",
       "      <th rowspan=\"3\" valign=\"top\">E</th>\n",
       "      <th>1</th>\n",
       "      <td>100000</td>\n",
       "      <td>NaN</td>\n",
       "      <td>base</td>\n",
       "      <td>&lt;Species at 0x1c15150940&gt;</td>\n",
       "    </tr>\n",
       "    <tr>\n",
       "      <th>2</th>\n",
       "      <td>100000</td>\n",
       "      <td>NaN</td>\n",
       "      <td>base</td>\n",
       "      <td>&lt;Species at 0x1c151525f8&gt;</td>\n",
       "    </tr>\n",
       "    <tr>\n",
       "      <th>3</th>\n",
       "      <td>100000</td>\n",
       "      <td>NaN</td>\n",
       "      <td>base</td>\n",
       "      <td>&lt;Species at 0x1c151520f0&gt;</td>\n",
       "    </tr>\n",
       "  </tbody>\n",
       "</table>\n",
       "</div>"
      ],
      "text/plain": [
       "             time_appeared time_disappeared subtype                     object\n",
       "clade number                                                                  \n",
       "A     0                  0              NaN    base  <Species at 0x1c150a58d0>\n",
       "B     0                  0           100000    base  <Species at 0x1c15090a58>\n",
       "C     0                  0              NaN    base  <Species at 0x1c15098128>\n",
       "D     0                  0              NaN    base  <Species at 0x1c150afef0>\n",
       "E     0                  0           100000    base  <Species at 0x1c150afe10>\n",
       "B     1             100000              NaN    base  <Species at 0x1c15150048>\n",
       "      2             100000              NaN    base  <Species at 0x1c15150278>\n",
       "E     1             100000              NaN    base  <Species at 0x1c15150940>\n",
       "      2             100000              NaN    base  <Species at 0x1c151525f8>\n",
       "      3             100000              NaN    base  <Species at 0x1c151520f0>"
      ]
     },
     "execution_count": 17,
     "metadata": {},
     "output_type": "execute_result"
    }
   ],
   "source": [
    "be.species"
   ]
  },
  {
   "cell_type": "markdown",
   "metadata": {},
   "source": [
    "## Species identifiers and phylogenetic trees\n",
    "\n",
    "Species identifiers are automatically generated. They are stored as tuples in species objects. The first element of the identifier tuple is the clade name, and the second element is the species number. For example, the first species of clade A is 0, so the identifier is (A, 0) and the tenth species of this clade is (A, 9).\n",
    "\n",
    "### Clade name\n",
    "\n",
    "A clade is a group of species that share a common ancestor. Species may share multiple common ancestors, so clades can be defined differently in the same tree. The clade(s) of this example tree can be defined in multiple ways:\n",
    "\n",
    "![](images/clade_definitions.png)\n",
    "\n",
    "In BiotaEvolver, clades are defined by the root node for the purpose of assigning species identifiers. The species at the root node is:\n",
    "* the least recent common ancestor of all species in the tree, and\n",
    "* typically introduced to a BiotaEvolver model using the ```introduce_species``` function.\n",
    "\n",
    "The clades of the first 26 species are labeled alphabetically from A to Z. The next 26 are labeled AB thru AZ. \n",
    "\n",
    "1-26: A to Z\n",
    "27-53: AA to AZ\n",
    "BA to BZ\n",
    "...\n",
    "AAA to AAZ\n",
    "ABA to ABZ\n",
    "ACA to ACZ\n",
    "\n",
    "### Species number\n",
    "\n",
    "Species are numbered sequently by clade beginning with 0.\n",
    "\n",
    "In the example tree below, species A0 produced 4 child species. Only one species, B0 exists in clade B because child species were not produced by B0.\n",
    "\n",
    "![](images/species_number.png)"
   ]
  },
  {
   "cell_type": "code",
   "execution_count": null,
   "metadata": {},
   "outputs": [],
   "source": []
  },
  {
   "cell_type": "code",
   "execution_count": null,
   "metadata": {},
   "outputs": [],
   "source": []
  },
  {
   "cell_type": "markdown",
   "metadata": {},
   "source": [
    "### Click here for more <a href=\"https://github.com/landlab/landlab/wiki/Tutorials\">Landlab tutorials</a>"
   ]
  }
 ],
 "metadata": {
  "kernelspec": {
   "display_name": "Python 3",
   "language": "python",
   "name": "python3"
  },
  "language_info": {
   "codemirror_mode": {
    "name": "ipython",
    "version": 3
   },
   "file_extension": ".py",
   "mimetype": "text/x-python",
   "name": "python",
   "nbconvert_exporter": "python",
   "pygments_lexer": "ipython3",
   "version": "3.6.5"
  }
 },
 "nbformat": 4,
 "nbformat_minor": 1
}
