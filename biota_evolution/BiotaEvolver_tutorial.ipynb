{
 "cells": [
  {
   "cell_type": "markdown",
   "metadata": {},
   "source": [
    "<a href=\"http://landlab.github.io\"><img style=\"float: left\" src=\"https://raw.githubusercontent.com/landlab/tutorials/master/landlab_header.png\"></a>\n"
   ]
  },
  {
   "cell_type": "markdown",
   "metadata": {},
   "source": [
    "# Using the Landlab BiotaEvolver component\n",
    "\n",
    "<hr>\n",
    "<small> For instructions on how to run an interactive iPython notebook, click here: <a href=\"https://github.com/landlab/tutorials/blob/master/README.md\">https://github.com/landlab/tutorials/blob/master/README.md</a></small><br>\n",
    "<small>For more Landlab tutorials, click here: <a href=\"https://github.com/landlab/landlab/wiki/Tutorials\">https://github.com/landlab/landlab/wiki/Tutorials</a></small>\n",
    "<hr>\n",
    "\n",
    "In this tutorial we will:\n",
    "* Introduce species into a Landlab model.\n",
    "* Set the zones in which the species operate.\n",
    "* Evolve a landscape and the species over time.\n",
    "* Explore BiotaEvolver output data structures.\n",
    "\n",
    "The configuration of the model in this tutorial loosely follows the fault throw experiment in Lyons et al., in preperation for Earth Surface Dynamics."
   ]
  },
  {
   "cell_type": "markdown",
   "metadata": {},
   "source": [
    "Import modules and set the environment to show plots inline in this notebook."
   ]
  },
  {
   "cell_type": "code",
   "execution_count": 2,
   "metadata": {},
   "outputs": [],
   "source": [
    "from landlab import RasterModelGrid, CLOSED_BOUNDARY, FIXED_VALUE_BOUNDARY\n",
    "from landlab.components import (BiotaEvolver, FastscapeEroder, FlowRouter,\n",
    "                                LinearDiffuser)\n",
    "from landlab.components.biota_macroevolution import Species, Zone\n",
    "import numpy as np\n",
    "\n",
    "%matplotlib inline"
   ]
  },
  {
   "cell_type": "markdown",
   "metadata": {},
   "source": [
    "## Create a model grid with steady state topography\n",
    "\n",
    "Here the topography of a Landlab model grid brought to topographic steady state."
   ]
  },
  {
   "cell_type": "markdown",
   "metadata": {},
   "source": [
    "Create a grid with random initial topography."
   ]
  },
  {
   "cell_type": "code",
   "execution_count": 3,
   "metadata": {},
   "outputs": [],
   "source": [
    "dx = 200\n",
    "nrows = 100\n",
    "ncols = 20\n",
    "mg_ss = RasterModelGrid(nrows, ncols, dx)\n",
    "mg_ss.set_status_at_node_on_edges(right=CLOSED_BOUNDARY,\n",
    "                                  top=FIXED_VALUE_BOUNDARY,\n",
    "                                  left=CLOSED_BOUNDARY,\n",
    "                                  bottom=FIXED_VALUE_BOUNDARY)\n",
    "z_ss = mg_ss.add_zeros('node', 'topographic__elevation')\n",
    "np.random.seed(500)\n",
    "z_ss += np.random.rand(z_ss.size)"
   ]
  },
  {
   "cell_type": "markdown",
   "metadata": {},
   "source": [
    "Set parameters and initialize components."
   ]
  },
  {
   "cell_type": "code",
   "execution_count": null,
   "metadata": {},
   "outputs": [],
   "source": [
    "dt = 1000\n",
    "total_time = int(4e6)\n",
    "t = range(0, total_time, dt)\n",
    "U = 7e-5\n",
    "uplift_per_step = U * dt\n",
    "K_sp = 10e-5\n",
    "m_sp = 0.5\n",
    "n_sp = 1\n",
    "k_d = 0.0001\n",
    "\n",
    "fr = FlowRouter(mg_ss)\n",
    "sp = FastscapeEroder(mg_ss, K_sp=K_sp, m_sp=m_sp, n_sp=n_sp)\n",
    "lf = LinearDiffuser(mg_ss, linear_diffusivity=k_d, deposit=False)"
   ]
  },
  {
   "cell_type": "markdown",
   "metadata": {},
   "source": [
    "Run the model until topography reaches steady state (ss)."
   ]
  },
  {
   "cell_type": "code",
   "execution_count": null,
   "metadata": {},
   "outputs": [],
   "source": [
    "for t_i in t:\n",
    "    z_ss[mg_ss.core_nodes] += uplift_per_step\n",
    "\n",
    "    fr.run_one_step()\n",
    "    sp.run_one_step(dt)\n",
    "    lf.run_one_step(dt)"
   ]
  },
  {
   "cell_type": "markdown",
   "metadata": {},
   "source": [
    "## Fault the grid and evolve species"
   ]
  },
  {
   "cell_type": "markdown",
   "metadata": {},
   "source": [
    "Create a copy of the steady state grid."
   ]
  },
  {
   "cell_type": "code",
   "execution_count": null,
   "metadata": {},
   "outputs": [],
   "source": [
    "mg = deepcopy(mg_ss)\n",
    "z = mg.at_node['topographic__elevation']"
   ]
  },
  {
   "cell_type": "markdown",
   "metadata": {},
   "source": [
    "Define the fault."
   ]
  },
  {
   "cell_type": "code",
   "execution_count": null,
   "metadata": {},
   "outputs": [],
   "source": [
    "grid_width = mg.number_of_node_columns * mg.dx\n",
    "x_of_fault = grid_width * 0.5\n",
    "core_mask = mg.node_is_core()\n",
    "upthown_block_mask = mg.x_of_node >= x_of_fault\n",
    "upthown_block_mask = np.all([core_mask, upthown_block_mask], 0)\n",
    "z[upthown_block_mask] += 100"
   ]
  },
  {
   "cell_type": "markdown",
   "metadata": {},
   "source": [
    "Initialize components."
   ]
  },
  {
   "cell_type": "code",
   "execution_count": null,
   "metadata": {},
   "outputs": [],
   "source": [
    "fr = FlowRouter(mg)\n",
    "sp = FastscapeEroder(mg, K_sp=K_sp, m_sp=m_sp, n_sp=n_sp)\n",
    "lf = LinearDiffuser(mg, linear_diffusivity=k_d, deposit=False)\n",
    "\n",
    "be = BiotaEvolver(mg)\n",
    "dt_be = 1e5"
   ]
  },
  {
   "cell_type": "markdown",
   "metadata": {},
   "source": [
    "Populate BiotaEvolver zones with species.\n",
    "\n",
    "Zones are portions of a model grid. A Species object exists throughout a zone. At each timestep, the spatial intersection of the zones at the prior time and current time are identified and typed. For example, a zone in the prior time intersects two zones in the current time. This zone path is typed one-to-many.\n",
    "\n",
    "Macroevolutionary processes are carried out by the intersection of zones over time. The connectivity of zones in BiotaEvolver are called 'paths', and the relationship of zones is described by the path type. Not all combinations of none, one, and many are considered at the time of this tutorial. All none-to-n and some many-to-n are not considered. \n",
    "\n",
    "<img style=\"float: left;\" src=\"images/zone__one_to_none.png\"> &nbsp; zone<sub>*t*</sub>: a zone in time, *t*.<br>\n",
    "\n",
    "<img style=\"float: left;\" src=\"images/zone__later_time.png\"> &nbsp; zone<sub>*t*+1</sub>: a zone in the time following *t*.\n",
    "\n",
    "<center>path type</center> | <center>graphical<br>represention</center> | <center>zone temporal connectivity</center> | <center>macroevolution implications</center>\n",
    "--- | --- | --- | ---\n",
    "one-to-none | ![](images/zone__one_to_none.png) | zone<sub>*t*</sub> does not intersect a zone in *t*+1. | The species in the zone of the earlier time will go extinct. \n",
    "one-to-one | ![](images/zone__one_to_one.png) | zone<sub>*t*</sub> intersects zone<sub>*t*+1</sub>. | The species in the zone of the earlier time will relocate to the zone of the later time.\n",
    "one-to-many | ![](images/zone__one_to_many.png) | zone<sub>*t*</sub> intersects multiple zones in *t*+1. | The species in the zone of the earlier time disperses across the multiple zones in the later time. The species in the zones of the later time are geographical disconnected, thus speciation occurs.\n",
    "many-to-one | ![](images/zone__many_to_one.png) | Multiple zones in *t* intersect zone<sub>*t*+1</sub>. | Species density increases locally.\n",
    "many-to-many | ![](images/zone__many_to_many.png) | Multiple zones in *t* intersect multiple zones in *t*+1. | Species distribution shifts. Speciation occurs where the zone of a species at *t* intersects more than one zone at *t*+1.\n"
   ]
  },
  {
   "cell_type": "code",
   "execution_count": 1,
   "metadata": {},
   "outputs": [
    {
     "ename": "NameError",
     "evalue": "name 'Zone' is not defined",
     "output_type": "error",
     "traceback": [
      "\u001b[0;31m---------------------------------------------------------------------------\u001b[0m",
      "\u001b[0;31mNameError\u001b[0m                                 Traceback (most recent call last)",
      "\u001b[0;32m<ipython-input-1-53c90586ee9c>\u001b[0m in \u001b[0;36m<module>\u001b[0;34m()\u001b[0m\n\u001b[1;32m      1\u001b[0m \u001b[0mmin_stream_area\u001b[0m \u001b[0;34m=\u001b[0m \u001b[0;36m1e6\u001b[0m\u001b[0;34m\u001b[0m\u001b[0m\n\u001b[0;32m----> 2\u001b[0;31m \u001b[0mzones\u001b[0m \u001b[0;34m=\u001b[0m \u001b[0mZone\u001b[0m\u001b[0;34m.\u001b[0m\u001b[0mget_zones_with_area_threshold\u001b[0m\u001b[0;34m(\u001b[0m\u001b[0mmg\u001b[0m\u001b[0;34m,\u001b[0m \u001b[0mmin_stream_area\u001b[0m\u001b[0;34m)\u001b[0m\u001b[0;34m\u001b[0m\u001b[0m\n\u001b[0m\u001b[1;32m      3\u001b[0m \u001b[0;32mfor\u001b[0m \u001b[0mzone\u001b[0m \u001b[0;32min\u001b[0m \u001b[0mzones\u001b[0m\u001b[0;34m:\u001b[0m\u001b[0;34m\u001b[0m\u001b[0m\n\u001b[1;32m      4\u001b[0m     \u001b[0mnew_species\u001b[0m \u001b[0;34m=\u001b[0m \u001b[0mSpecies\u001b[0m\u001b[0;34m(\u001b[0m\u001b[0;36m0\u001b[0m\u001b[0;34m,\u001b[0m \u001b[0mzone\u001b[0m\u001b[0;34m)\u001b[0m\u001b[0;34m\u001b[0m\u001b[0m\n\u001b[1;32m      5\u001b[0m     \u001b[0mbe\u001b[0m\u001b[0;34m.\u001b[0m\u001b[0mintroduce_species\u001b[0m\u001b[0;34m(\u001b[0m\u001b[0mnew_species\u001b[0m\u001b[0;34m,\u001b[0m \u001b[0;36m0\u001b[0m\u001b[0;34m)\u001b[0m\u001b[0;34m\u001b[0m\u001b[0m\n",
      "\u001b[0;31mNameError\u001b[0m: name 'Zone' is not defined"
     ]
    }
   ],
   "source": [
    "min_stream_area = 1e6\n",
    "zones = Zone.get_zones_with_area_threshold(mg, min_stream_area)\n",
    "for zone in zones:\n",
    "    new_species = Species(0, zone)\n",
    "    be.introduce_species(new_species, 0)"
   ]
  },
  {
   "cell_type": "markdown",
   "metadata": {},
   "source": [
    "Run model."
   ]
  },
  {
   "cell_type": "code",
   "execution_count": null,
   "metadata": {},
   "outputs": [],
   "source": [
    "total_time = 5e5\n",
    "nt = int(total_time // dt)\n",
    "for time_i in range(nt):\n",
    "    # Uniformly uplift.\n",
    "    z[mg.core_nodes] += uplift_per_step\n",
    "\n",
    "    # Increment components.\n",
    "    fr.run_one_step()\n",
    "    sp.run_one_step(dt)\n",
    "    lf.run_one_step(dt)\n",
    "\n",
    "    elapsed_time = dt * (time_i + 1)\n",
    "\n",
    "    if elapsed_time % dt_be == 0:\n",
    "        # Run BiotaEvolver with updated zones.\n",
    "        print('BiotaEvolver time', elapsed_time, '---------------------------')\n",
    "        zones = Zone.get_zones_with_area_threshold(mg, min_stream_area)\n",
    "        be.run_one_step(elapsed_time, zones)"
   ]
  },
  {
   "cell_type": "code",
   "execution_count": null,
   "metadata": {},
   "outputs": [],
   "source": []
  },
  {
   "cell_type": "code",
   "execution_count": null,
   "metadata": {},
   "outputs": [],
   "source": []
  },
  {
   "cell_type": "markdown",
   "metadata": {},
   "source": [
    "## Species identifiers and phylogenetic trees\n",
    "\n",
    "Species identifiers are automatically generated. They are stored as tuples in species objects. The first element of the identifier tuple is the clade name, and the second element is the species number. For example, the first species of clade A is 0, so the identifier is (A, 0) and the tenth species of this clade is (A, 9).\n",
    "\n",
    "### Clade name\n",
    "\n",
    "A clade is a group of species that share a common ancestor. Species may share multiple common ancestors, so clades can be defined differently in the same tree. The clade(s) of this example tree can be defined in multiple ways:\n",
    "\n",
    "![](images/clade_definitions.png)\n",
    "\n",
    "In BiotaEvolver, clades are defined by the root node for the purpose of assigning species identifiers. The species at the root node is:\n",
    "* the least recent common ancestor of all species in the tree, and\n",
    "* typically introduced to a BiotaEvolver model using the ```introduce_species``` function.\n",
    "\n",
    "The clades of the first 26 species are labeled alphabetically from A to Z. The next 26 are labeled AB thru AZ. \n",
    "\n",
    "1-26: A to Z\n",
    "27-53: AA to AZ\n",
    "BA to BZ\n",
    "...\n",
    "AAA to AAZ\n",
    "ABA to ABZ\n",
    "ACA to ACZ\n",
    "\n",
    "### Species number\n",
    "\n",
    "Species are numbered sequently by clade beginning with 0.\n",
    "\n",
    "In the example tree below, species A0 produced 4 child species. Only one species, B0 exists in clade B because child species were not produced by B0.\n",
    "\n",
    "![](images/species_number.png)"
   ]
  },
  {
   "cell_type": "code",
   "execution_count": null,
   "metadata": {},
   "outputs": [],
   "source": []
  },
  {
   "cell_type": "code",
   "execution_count": null,
   "metadata": {},
   "outputs": [],
   "source": []
  },
  {
   "cell_type": "markdown",
   "metadata": {},
   "source": [
    "### Click here for more <a href=\"https://github.com/landlab/landlab/wiki/Tutorials\">Landlab tutorials</a>"
   ]
  }
 ],
 "metadata": {
  "kernelspec": {
   "display_name": "Python 3",
   "language": "python",
   "name": "python3"
  },
  "language_info": {
   "codemirror_mode": {
    "name": "ipython",
    "version": 3
   },
   "file_extension": ".py",
   "mimetype": "text/x-python",
   "name": "python",
   "nbconvert_exporter": "python",
   "pygments_lexer": "ipython3",
   "version": "3.6.5"
  }
 },
 "nbformat": 4,
 "nbformat_minor": 1
}
