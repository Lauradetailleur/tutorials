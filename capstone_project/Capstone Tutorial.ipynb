{
 "cells": [
  {
   "cell_type": "code",
   "execution_count": null,
   "metadata": {
    "collapsed": true
   },
   "outputs": [],
   "source": []
  },
  {
   "cell_type": "markdown",
   "metadata": {},
   "source": [
    "Goals\n",
    "\n",
    "\n",
    "Model Description\n",
    "\n",
    "Make a model that evolves a landscape with hillslope sediment transport and fluvial incision. The model grid you use should be either a HexModelGrid or a RadialModelGrid. Half of the boundary grid nodes should have a no flux boundary condition -- you get to choose which half. The model core nodes should uplift through time. For hillslope sediment flux, you must explicitly develop regolith and only move material that has been converted to regolith. \n",
    "\n",
    "Questions to be able to answer\n",
    "\n",
    "Output description\n",
    "\n",
    "\n",
    "Note: there is no right answer to this tutorial"
   ]
  },
  {
   "cell_type": "code",
   "execution_count": null,
   "metadata": {
    "collapsed": true
   },
   "outputs": [],
   "source": [
    "# Code Block 1: Imports\n",
    "# Here you should import all necessary modules.\n",
    "# Start with the ones that are most fundamental (e.g. numpy) and\n",
    "# then progress to the ones that depend on the fundamental ones\n",
    "# (e.g. Landlab components)\n",
    "\n",
    "\n"
   ]
  },
  {
   "cell_type": "markdown",
   "metadata": {},
   "source": [
    "You should go read the Reference Manual documentation on the components you've imported. We have intentionally not provided an indication of which m to "
   ]
  },
  {
   "cell_type": "code",
   "execution_count": null,
   "metadata": {
    "collapsed": true
   },
   "outputs": [],
   "source": []
  },
  {
   "cell_type": "code",
   "execution_count": null,
   "metadata": {
    "collapsed": true
   },
   "outputs": [],
   "source": []
  }
 ],
 "metadata": {
  "kernelspec": {
   "display_name": "Python 3",
   "language": "python",
   "name": "python3"
  },
  "language_info": {
   "codemirror_mode": {
    "name": "ipython",
    "version": 3
   },
   "file_extension": ".py",
   "mimetype": "text/x-python",
   "name": "python",
   "nbconvert_exporter": "python",
   "pygments_lexer": "ipython3",
   "version": "3.6.2"
  }
 },
 "nbformat": 4,
 "nbformat_minor": 2
}
