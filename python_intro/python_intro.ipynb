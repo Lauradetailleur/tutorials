{
 "cells": [
  {
   "cell_type": "markdown",
   "metadata": {},
   "source": [
    "<a href=\"http://landlab.github.io\"><img style=\"float: left\" src=\"https://raw.githubusercontent.com/landlab/tutorials/release/landlab_header.png\"></a>"
   ]
  },
  {
   "cell_type": "markdown",
   "metadata": {},
   "source": [
    "# A super-brief intro to Python and NumPy"
   ]
  },
  {
   "cell_type": "markdown",
   "metadata": {},
   "source": [
    "<hr>\n",
    "<small> For instructions on how to run an interactive Jupyter notebook, click here: <a href=\"https://github.com/landlab/tutorials/blob/release/README.md\">https://github.com/landlab/tutorials/blob/release/README.md</a></small><br>\n",
    "<small>For more Landlab tutorials, click here: <a href=\"https://github.com/landlab/landlab/wiki/Tutorials\">https://github.com/landlab/landlab/wiki/Tutorials</a></small>\n",
    "<hr>\n"
   ]
  },
  {
   "cell_type": "markdown",
   "metadata": {},
   "source": [
    "Python is:\n",
    "* interpreted (high level)\n",
    "* readable\n",
    "* concise\n",
    "* cross-platform\n",
    "* dynamically typed\n",
    "* object oriented\n",
    "* automatically memory-managed\n",
    "\n",
    "Almost all of the below is explained much more fully at various places online. For a nice entry level tutorial set, try the Software Carpentry intros:\n",
    "http://swcarpentry.github.io/python-novice-inflammation/\n",
    "\n",
    "The main Python documentation is also an extremely readable source of knowledge. Just Google!"
   ]
  },
  {
   "cell_type": "markdown",
   "metadata": {},
   "source": [
    "## PROGRAM FILES AND INTERACTIVE ENVIRONMENTS\n",
    "Put Python code in .py text files (AKA \"scripts\").\n",
    "Run these from a shell, as:\n",
    "\n",
    "> python myscript.py\n",
    "\n",
    "OR\n",
    "\n",
    "Use one of Python's interactive environments (e.g., iPython)!\n",
    "\n",
    "> ipython\n",
    "\n",
    "In an interactive environment:\n",
    "\n",
    "* Run code line-by-line, preserving variables\n",
    "* Run your scripts, using the magic command `%run` (and preserve the variables)\n",
    "\n",
    "This Jupyter notebook is an interactive environment."
   ]
  },
  {
   "cell_type": "markdown",
   "metadata": {},
   "source": [
    "## MODULES\n",
    "Python has some built-in functions, but everything else comes in a library module.\n",
    "\n",
    "* See the built-in functions here: https://docs.python.org/2/library/functions.html\n",
    "\n",
    "Modules are *imported*, then the functions they hold run with a *dot* syntax:"
   ]
  },
  {
   "cell_type": "code",
   "execution_count": 1,
   "metadata": {},
   "outputs": [
    {
     "name": "stdout",
     "output_type": "stream",
     "text": [
      "1.0\n"
     ]
    }
   ],
   "source": [
    "import math  # comments with a hash\n",
    "x = math.cos(2. * math.pi)\n",
    "print(x)   # print is a built-in function"
   ]
  },
  {
   "cell_type": "markdown",
   "metadata": {},
   "source": [
    "OR import the functions and properties individually:"
   ]
  },
  {
   "cell_type": "code",
   "execution_count": 2,
   "metadata": {},
   "outputs": [
    {
     "name": "stdout",
     "output_type": "stream",
     "text": [
      "1.0\n"
     ]
    }
   ],
   "source": [
    "from numpy import cos, pi # numpy, numeric python, also has these functions\n",
    "x = cos(2. * pi)\n",
    "print (x)"
   ]
  },
  {
   "cell_type": "markdown",
   "metadata": {},
   "source": [
    "Get help in an interactive shell with a trailing ``?``, quit it with ``q``"
   ]
  },
  {
   "cell_type": "code",
   "execution_count": 3,
   "metadata": {},
   "outputs": [],
   "source": [
    "pi?"
   ]
  },
  {
   "cell_type": "markdown",
   "metadata": {},
   "source": [
    "## TYPES\n",
    "Python distinguishes:\n",
    "* integer (int)\n",
    "* float (float)\n",
    "* boolean (bool)\n",
    "* complex (complex)\n",
    "* strings (str)\n",
    "\n",
    "You may also encounter NumPy types, like `numpy.float64`"
   ]
  },
  {
   "cell_type": "code",
   "execution_count": 4,
   "metadata": {},
   "outputs": [
    {
     "data": {
      "text/plain": [
       "float"
      ]
     },
     "execution_count": 4,
     "metadata": {},
     "output_type": "execute_result"
    }
   ],
   "source": [
    "type(pi)"
   ]
  },
  {
   "cell_type": "markdown",
   "metadata": {},
   "source": [
    "Typecasting is automatic where possible, but can be time-expensive.\n",
    "\n",
    "Python's inbuilt *data structures* are:\n",
    "* tuples, with *parentheses*—immutable\n",
    "* lists, with *square brackets*—mutable\n",
    "* sets, as set()—unordered collection with no duplicates\n",
    "* dictionaries, with *curly brackets*—associated pairs of key:value\n",
    "\n",
    "Note that all these data structures let you happily mix data types… But the cost is that Python runs more slowly than, e.g., C++."
   ]
  },
  {
   "cell_type": "code",
   "execution_count": 5,
   "metadata": {},
   "outputs": [
    {
     "name": "stdout",
     "output_type": "stream",
     "text": [
      "You can index: 1\n"
     ]
    }
   ],
   "source": [
    "mytuple = (0,1,2,3)\n",
    "print('You can index: %d' % mytuple[1]) # this uses interpolation which replaces %d with the item following %"
   ]
  },
  {
   "cell_type": "markdown",
   "metadata": {},
   "source": [
    "Tuples are immutable, meaning that you cannot reassign values to them. Python will give `TypeError` if you try to do so. We can test this using a `try...except` block: if a `TypeError` occurs in the assignment statement below, we should see the printed message:"
   ]
  },
  {
   "cell_type": "code",
   "execution_count": 6,
   "metadata": {},
   "outputs": [
    {
     "name": "stdout",
     "output_type": "stream",
     "text": [
      "A TypeError occurred\n"
     ]
    }
   ],
   "source": [
    "try:\n",
    "    mytuple[0] = 100\n",
    "except TypeError:\n",
    "    print('A TypeError occurred')"
   ]
  },
  {
   "cell_type": "markdown",
   "metadata": {},
   "source": [
    "... and indeed we do."
   ]
  },
  {
   "cell_type": "code",
   "execution_count": 7,
   "metadata": {},
   "outputs": [
    {
     "name": "stdout",
     "output_type": "stream",
     "text": [
      "This time reassignment works:\n",
      "['I can store a string!', 1, 2, 3]\n"
     ]
    }
   ],
   "source": [
    "mylist = [0,1,2,3]\n",
    "print ('This time reassignment works:')\n",
    "mylist[0] = 'I can store a string!'\n",
    "print(mylist)"
   ]
  },
  {
   "cell_type": "code",
   "execution_count": 8,
   "metadata": {},
   "outputs": [
    {
     "name": "stdout",
     "output_type": "stream",
     "text": [
      "{0, 1, 2, 3}\n"
     ]
    }
   ],
   "source": [
    "myset = set([0,1,2,3])\n",
    "print(myset)"
   ]
  },
  {
   "cell_type": "code",
   "execution_count": 9,
   "metadata": {},
   "outputs": [
    {
     "name": "stdout",
     "output_type": "stream",
     "text": [
      "Adding is easy: {0, 1, 2, 3, 'string!'}\n"
     ]
    }
   ],
   "source": [
    "myset.add(\"string!\") # you can use both ' and \" to declare a string\n",
    "print('Adding is easy: %s' % myset)"
   ]
  },
  {
   "cell_type": "code",
   "execution_count": 10,
   "metadata": {},
   "outputs": [
    {
     "name": "stdout",
     "output_type": "stream",
     "text": [
      "But remember, duplicates don't count! {0, 1, 2, 3, 'string!'}\n"
     ]
    }
   ],
   "source": [
    "myset.add(0)\n",
    "print(\"But remember, duplicates don't count! %s\" % myset)"
   ]
  },
  {
   "cell_type": "code",
   "execution_count": 11,
   "metadata": {},
   "outputs": [
    {
     "name": "stdout",
     "output_type": "stream",
     "text": [
      "{'firstkey': 1, 'secondkey': 2, 3: 'three'}\n"
     ]
    }
   ],
   "source": [
    "mydict = {'firstkey':1, 'secondkey':2, 3:'three'}\n",
    "print(mydict)"
   ]
  },
  {
   "cell_type": "code",
   "execution_count": 12,
   "metadata": {},
   "outputs": [
    {
     "name": "stdout",
     "output_type": "stream",
     "text": [
      "1\n",
      "2\n",
      "three\n"
     ]
    }
   ],
   "source": [
    "print(mydict['firstkey'])\n",
    "print(mydict['secondkey'])\n",
    "print(mydict[3])"
   ]
  },
  {
   "cell_type": "code",
   "execution_count": 13,
   "metadata": {},
   "outputs": [
    {
     "name": "stdout",
     "output_type": "stream",
     "text": [
      "Get the keys (note lack of ordering): dict_keys(['firstkey', 'secondkey', 3])\n",
      "Get the values: dict_values([1, 2, 'three'])\n"
     ]
    }
   ],
   "source": [
    "print('Get the keys (note lack of ordering): %s' % mydict.keys())\n",
    "print('Get the values: %s' % mydict.values())"
   ]
  },
  {
   "cell_type": "code",
   "execution_count": 14,
   "metadata": {},
   "outputs": [
    {
     "name": "stdout",
     "output_type": "stream",
     "text": [
      "The next line should generate a KeyError...\n",
      "...and indeed it did.\n"
     ]
    }
   ],
   "source": [
    "try:\n",
    "    print('The next line should generate a KeyError...')\n",
    "    print(' %s' % mydict[2])\n",
    "except KeyError:\n",
    "    print('...and indeed it did.')"
   ]
  },
  {
   "cell_type": "markdown",
   "metadata": {},
   "source": [
    "## INDEXING\n",
    "* Indexing starts from 0\n",
    "* Index with square brackets [start : stop : step]\n",
    "* \"stop\" is *exclusive* of the named index\n",
    "* Colon alone means \"all of these\" or \"to the start/end\""
   ]
  },
  {
   "cell_type": "code",
   "execution_count": 15,
   "metadata": {},
   "outputs": [
    {
     "name": "stdout",
     "output_type": "stream",
     "text": [
      "x[3] gives 3\n",
      "x[1:5:2] gives range(1, 5, 2)\n"
     ]
    }
   ],
   "source": [
    "x = range(10)\n",
    "print('x[3] gives %d' % x[3])\n",
    "print('x[1:5:2] gives %s' % x[1:5:2])"
   ]
  },
  {
   "cell_type": "code",
   "execution_count": 16,
   "metadata": {},
   "outputs": [
    {
     "name": "stdout",
     "output_type": "stream",
     "text": [
      "x[8:] gives range(8, 10)\n",
      "x[:7] gives range(0, 7)\n",
      "x[::3] gives range(0, 10, 3)\n"
     ]
    }
   ],
   "source": [
    "print('x[8:] gives %s' % x[8:])\n",
    "print('x[:7] gives %s' % x[:7])\n",
    "print('x[::3] gives %s' % x[::3])"
   ]
  },
  {
   "cell_type": "markdown",
   "metadata": {},
   "source": [
    "## PYTHON IS LIKE, BUT ISN'T, MATLAB\n",
    "- This is a *power*:"
   ]
  },
  {
   "cell_type": "code",
   "execution_count": 17,
   "metadata": {},
   "outputs": [],
   "source": [
    "x = 10.0**2  # …or…\n",
    "import numpy as np\n",
    "x = np.square(10.)  # NEVER 10.^2."
   ]
  },
  {
   "cell_type": "markdown",
   "metadata": {},
   "source": [
    "Likewise, it's also useful to know about the \"truncation\" (``//``) and \"remainder\" (``%``) division operators:"
   ]
  },
  {
   "cell_type": "code",
   "execution_count": 18,
   "metadata": {},
   "outputs": [
    {
     "name": "stdout",
     "output_type": "stream",
     "text": [
      "truncate: 3\n",
      "remainder: 1\n"
     ]
    }
   ],
   "source": [
    "print('truncate: %d' % (13//4))\n",
    "print('remainder: %d' % (13%4))"
   ]
  },
  {
   "cell_type": "markdown",
   "metadata": {},
   "source": [
    "- End indices are NOT inclusive"
   ]
  },
  {
   "cell_type": "code",
   "execution_count": 19,
   "metadata": {},
   "outputs": [
    {
     "data": {
      "text/plain": [
       "100"
      ]
     },
     "execution_count": 19,
     "metadata": {},
     "output_type": "execute_result"
    }
   ],
   "source": [
    "len(range(0, 100)) # in Matlab this would be 101"
   ]
  },
  {
   "cell_type": "code",
   "execution_count": 20,
   "metadata": {},
   "outputs": [
    {
     "data": {
      "text/plain": [
       "[0, 1, 2, 3, 4]"
      ]
     },
     "execution_count": 20,
     "metadata": {},
     "output_type": "execute_result"
    }
   ],
   "source": [
    "[x for x in range(5)]"
   ]
  },
  {
   "cell_type": "markdown",
   "metadata": {},
   "source": [
    "- Intelligent memory management means Python will pass objects *by reference* where possible:"
   ]
  },
  {
   "cell_type": "code",
   "execution_count": 21,
   "metadata": {},
   "outputs": [
    {
     "name": "stdout",
     "output_type": "stream",
     "text": [
      "x starts as [0, 0, 0]\n",
      "y starts as [1, 2, 3]\n"
     ]
    }
   ],
   "source": [
    "x = [0] * 3\n",
    "y = [1,2,3]\n",
    "print('x starts as %s' % x)\n",
    "print('y starts as %s' % y)"
   ]
  },
  {
   "cell_type": "code",
   "execution_count": 22,
   "metadata": {},
   "outputs": [
    {
     "name": "stdout",
     "output_type": "stream",
     "text": [
      "After setting equal, x is [1, 2, 3]\n"
     ]
    }
   ],
   "source": [
    "x = y\n",
    "print('After setting equal, x is %s' % x)"
   ]
  },
  {
   "cell_type": "code",
   "execution_count": 23,
   "metadata": {},
   "outputs": [
    {
     "name": "stdout",
     "output_type": "stream",
     "text": [
      "After modifying y, x is [1, 100, 3]\n"
     ]
    }
   ],
   "source": [
    "y[1] = 100\n",
    "print('After modifying y, x is %s' % x)"
   ]
  },
  {
   "cell_type": "code",
   "execution_count": 24,
   "metadata": {},
   "outputs": [
    {
     "name": "stdout",
     "output_type": "stream",
     "text": [
      "[1, 100, 3]\n",
      "[1, 100, 3]\n"
     ]
    }
   ],
   "source": [
    "# force a copy with [:]\n",
    "x = y[:]\n",
    "print(x)\n",
    "print(y)"
   ]
  },
  {
   "cell_type": "code",
   "execution_count": 25,
   "metadata": {},
   "outputs": [
    {
     "name": "stdout",
     "output_type": "stream",
     "text": [
      "After forcing a copy, x is still [1, 100, 3] but y is now [1, 1000000, 3]\n"
     ]
    }
   ],
   "source": [
    "y[1] = 1000000\n",
    "print('After forcing a copy, x is still %s but y is now %s' % (x, y))"
   ]
  },
  {
   "cell_type": "markdown",
   "metadata": {},
   "source": [
    "- In Matlab, assigning a value to a variable triggers output unless you suppress it with a semi-colon at the end of the line; this isn't necessary in Python:"
   ]
  },
  {
   "cell_type": "code",
   "execution_count": 26,
   "metadata": {},
   "outputs": [],
   "source": [
    "x = range(10) # …see?"
   ]
  },
  {
   "cell_type": "markdown",
   "metadata": {},
   "source": [
    "- Python doesn't use brackets to delineate code blocks. It uses *indentation* with a fixed number of spaces (normally 4). This also applies to ``for`` loops, ``while`` loops, ``if`` statements, ``try/except`` statements, class declarations, function declarations, etc."
   ]
  },
  {
   "cell_type": "code",
   "execution_count": 27,
   "metadata": {},
   "outputs": [],
   "source": [
    "def myfunction(arg1, arg2, **kwds):\n",
    "    # **kwds is a special (optional) dictionary input type,\n",
    "    # that you can use as an input \"wildcard\"\n",
    "    try:\n",
    "        print_this = kwds['printy']\n",
    "    except KeyError:\n",
    "        x = arg1 * arg2\n",
    "        return x  # ...no brackets needed; both lines have 4 space indents\n",
    "    else:\n",
    "        print(print_this)"
   ]
  },
  {
   "cell_type": "code",
   "execution_count": 28,
   "metadata": {},
   "outputs": [
    {
     "name": "stdout",
     "output_type": "stream",
     "text": [
      "first time:\n"
     ]
    },
    {
     "data": {
      "text/plain": [
       "12.0"
      ]
     },
     "execution_count": 28,
     "metadata": {},
     "output_type": "execute_result"
    }
   ],
   "source": [
    "print('first time:')\n",
    "myfunction(3., 4.)"
   ]
  },
  {
   "cell_type": "code",
   "execution_count": 29,
   "metadata": {},
   "outputs": [
    {
     "name": "stdout",
     "output_type": "stream",
     "text": [
      "second time…\n",
      "Printed this time!\n"
     ]
    }
   ],
   "source": [
    "print('second time…')\n",
    "myfunction(5, 6, printy='Printed this time!')"
   ]
  },
  {
   "cell_type": "markdown",
   "metadata": {},
   "source": [
    "- Python's plotting is a blatant clone of matlab's, and lives in the library matplotlib.pyplot:"
   ]
  },
  {
   "cell_type": "code",
   "execution_count": 30,
   "metadata": {},
   "outputs": [
    {
     "data": {
      "text/plain": [
       "Text(0.5, 1.0, 'my plot!')"
      ]
     },
     "execution_count": 30,
     "metadata": {},
     "output_type": "execute_result"
    },
    {
     "data": {
      "image/png": "[encoded data removed]",
      "text/plain": [
       "<Figure size 432x288 with 1 Axes>"
      ]
     },
     "metadata": {
      "needs_background": "light"
     },
     "output_type": "display_data"
    }
   ],
   "source": [
    "%matplotlib inline\n",
    "# that command tells this notebook to put plots into the notebook\n",
    "import matplotlib.pyplot as plt\n",
    "import numpy as np\n",
    "x = np.arange(10) # like range()\n",
    "y = np.random.rand(10) # ten random floats, 0->1\n",
    "plt.plot(x, y, '*--')\n",
    "plt.xlabel('xaxis')\n",
    "plt.ylabel('yaxis')\n",
    "plt.title('my plot!')"
   ]
  },
  {
   "cell_type": "markdown",
   "metadata": {
    "collapsed": true
   },
   "source": [
    "## NumPy and Landlab"
   ]
  },
  {
   "cell_type": "markdown",
   "metadata": {
    "collapsed": true
   },
   "source": [
    "Landlab makes extensive use of the NumPy (Numeric Python) libraries. These allow significant acceleration of standard Python processes on matrix-like data arrays. Here we look at some of the key features and differences with pure Python along with some NumPy best-practice."
   ]
  },
  {
   "cell_type": "code",
   "execution_count": 31,
   "metadata": {},
   "outputs": [],
   "source": [
    "import numpy as np"
   ]
  },
  {
   "cell_type": "markdown",
   "metadata": {},
   "source": [
    "Initialize NumPy arrays from standard Python iterables (lists, tuples):"
   ]
  },
  {
   "cell_type": "code",
   "execution_count": 32,
   "metadata": {},
   "outputs": [],
   "source": [
    "myarray = np.array([0,1,3,6,18])"
   ]
  },
  {
   "cell_type": "markdown",
   "metadata": {},
   "source": [
    "…or with one of the standard array creation methods in NumPy. Particularly useful ones are:"
   ]
  },
  {
   "cell_type": "code",
   "execution_count": 33,
   "metadata": {},
   "outputs": [
    {
     "name": "stdout",
     "output_type": "stream",
     "text": [
      "a: [0 0 0 0 0 0 0 0 0 0]\n"
     ]
    }
   ],
   "source": [
    "a = np.zeros(10, dtype=int)\n",
    "print('a: %s' % a)"
   ]
  },
  {
   "cell_type": "code",
   "execution_count": 34,
   "metadata": {},
   "outputs": [
    {
     "name": "stdout",
     "output_type": "stream",
     "text": [
      "b: [ True  True  True  True  True]\n"
     ]
    }
   ],
   "source": [
    "b = np.ones(5, dtype=bool)\n",
    "print('b: %s' % b)"
   ]
  },
  {
   "cell_type": "code",
   "execution_count": 35,
   "metadata": {},
   "outputs": [
    {
     "name": "stdout",
     "output_type": "stream",
     "text": [
      "c: [0.15841784 0.04954417 0.83100961 0.55328936 0.94798791 0.63842261\n",
      " 0.6497439  0.63679401 0.54579852 0.83109289]\n"
     ]
    }
   ],
   "source": [
    "c = np.random.rand(10)\n",
    "print('c: %s' % c)"
   ]
  },
  {
   "cell_type": "code",
   "execution_count": 36,
   "metadata": {},
   "outputs": [
    {
     "name": "stdout",
     "output_type": "stream",
     "text": [
      "d: [0. 1. 2. 3. 4.]\n"
     ]
    }
   ],
   "source": [
    "d = np.arange(5.)\n",
    "print('d: %s' % d)"
   ]
  },
  {
   "cell_type": "code",
   "execution_count": 37,
   "metadata": {},
   "outputs": [
    {
     "name": "stdout",
     "output_type": "stream",
     "text": [
      "e: [[100. 100. 100.]\n",
      " [100. 100. 100.]\n",
      " [100. 100. 100.]]\n"
     ]
    }
   ],
   "source": [
    "e = np.empty((3,3), dtype=float)\n",
    "e.fill(100.)\n",
    "print('e: %s' % e)"
   ]
  },
  {
   "cell_type": "markdown",
   "metadata": {},
   "source": [
    "Arrays also have some built-in methods and properties. We see 'fill' above, but also noteworthy are:"
   ]
  },
  {
   "cell_type": "code",
   "execution_count": 38,
   "metadata": {},
   "outputs": [
    {
     "name": "stdout",
     "output_type": "stream",
     "text": [
      "shape: (3, 3)\n",
      "size: 9 \n"
     ]
    },
    {
     "data": {
      "text/plain": [
       "(0.9479879079006638,\n",
       " 0.04954416562794273,\n",
       " 0.5842100811368413,\n",
       " 5.842100811368413)"
      ]
     },
     "execution_count": 38,
     "metadata": {},
     "output_type": "execute_result"
    }
   ],
   "source": [
    "print('shape: %s' % (e.shape,))\n",
    "print('size: %d ' % e.size) # preferred to len()\n",
    "c.max(), c.min(), c.mean(), c.sum()"
   ]
  },
  {
   "cell_type": "code",
   "execution_count": 39,
   "metadata": {},
   "outputs": [
    {
     "name": "stdout",
     "output_type": "stream",
     "text": [
      "flatten: [100. 100. 100. 100. 100. 100. 100. 100. 100.]\n"
     ]
    }
   ],
   "source": [
    "f = c.copy()\n",
    "print('flatten: %s' % e.flatten())"
   ]
  },
  {
   "cell_type": "markdown",
   "metadata": {},
   "source": [
    "Slicing works like (better than?) in pure Python:"
   ]
  },
  {
   "cell_type": "code",
   "execution_count": 40,
   "metadata": {},
   "outputs": [
    {
     "name": "stdout",
     "output_type": "stream",
     "text": [
      "[2. 3. 4.]\n"
     ]
    }
   ],
   "source": [
    "print(d[2:])"
   ]
  },
  {
   "cell_type": "code",
   "execution_count": 41,
   "metadata": {},
   "outputs": [
    {
     "name": "stdout",
     "output_type": "stream",
     "text": [
      "[[100. 100. 100.]\n",
      " [100.   5. 100.]\n",
      " [100. 100. 100.]]\n"
     ]
    }
   ],
   "source": [
    "e[1,1] = 5.\n",
    "print(e)"
   ]
  },
  {
   "cell_type": "code",
   "execution_count": 42,
   "metadata": {},
   "outputs": [
    {
     "name": "stdout",
     "output_type": "stream",
     "text": [
      "[[  5. 100.]\n",
      " [100. 100.]]\n"
     ]
    }
   ],
   "source": [
    "print(e[1:,1:])"
   ]
  },
  {
   "cell_type": "markdown",
   "metadata": {},
   "source": [
    "Note that logical operations with NumPy tend to require NumPy-native functions, rather than pure Python `and`, `or`, `not` etc."
   ]
  },
  {
   "cell_type": "code",
   "execution_count": 43,
   "metadata": {},
   "outputs": [
    {
     "name": "stdout",
     "output_type": "stream",
     "text": [
      "AND: [ True False False False]\n",
      "OR: [ True  True  True False]\n",
      "NOT: [False False  True  True]\n"
     ]
    }
   ],
   "source": [
    "bool1 = np.array([True, True, False, False])\n",
    "bool2 = np.array([True, False, True, False])\n",
    "print('AND: %s' % np.logical_and(bool1, bool2))\n",
    "print('OR: %s' % np.logical_or(bool1, bool2))\n",
    "print('NOT: %s' % np.logical_not(bool1))"
   ]
  },
  {
   "cell_type": "code",
   "execution_count": 44,
   "metadata": {},
   "outputs": [
    {
     "name": "stdout",
     "output_type": "stream",
     "text": [
      "ANY: True\n",
      "ALL: False\n"
     ]
    }
   ],
   "source": [
    "print('ANY: %s' % np.any(bool1))\n",
    "print('ALL: %s' % np.all(bool1))"
   ]
  },
  {
   "cell_type": "markdown",
   "metadata": {},
   "source": [
    "Now, let's demonstrate the speed of NumPy over pure Python:"
   ]
  },
  {
   "cell_type": "code",
   "execution_count": 45,
   "metadata": {},
   "outputs": [],
   "source": [
    "f_list = range(1000)\n",
    "f_array = np.arange(1000, dtype=int)\n",
    "\n",
    "def addone_py(list_in):\n",
    "    for i in list_in:\n",
    "        i += 1\n",
    "\n",
    "def addone_np(array_in):\n",
    "    array_in += 1"
   ]
  },
  {
   "cell_type": "code",
   "execution_count": 46,
   "metadata": {},
   "outputs": [
    {
     "name": "stdout",
     "output_type": "stream",
     "text": [
      "time for list:\n",
      "44.9 µs ± 610 ns per loop (mean ± std. dev. of 7 runs, 10000 loops each)\n"
     ]
    }
   ],
   "source": [
    "print('time for list:')\n",
    "%timeit addone_py(f_list)"
   ]
  },
  {
   "cell_type": "code",
   "execution_count": 47,
   "metadata": {},
   "outputs": [
    {
     "name": "stdout",
     "output_type": "stream",
     "text": [
      "time for array:\n",
      "1.45 µs ± 37 ns per loop (mean ± std. dev. of 7 runs, 1000000 loops each)\n"
     ]
    }
   ],
   "source": [
    "print('time for array:')\n",
    "%timeit addone_np(f_array)"
   ]
  },
  {
   "cell_type": "markdown",
   "metadata": {},
   "source": [
    "In particular, never loop to do a logical test:"
   ]
  },
  {
   "cell_type": "code",
   "execution_count": 48,
   "metadata": {},
   "outputs": [
    {
     "name": "stdout",
     "output_type": "stream",
     "text": [
      "True\n"
     ]
    }
   ],
   "source": [
    "#NOT THIS:\n",
    "myoutput_slow = np.zeros(10, dtype=float)\n",
    "for i in range(len(c)): #c is our random number array\n",
    "    if c[i] > 0.5:\n",
    "        myoutput_slow[i] = c[i]\n",
    "\n",
    "#DO THIS INSTEAD:\n",
    "myoutput_fast = np.zeros(10, dtype=float)\n",
    "greater_than_half = c>0.5\n",
    "myoutput_fast[greater_than_half] = c[greater_than_half]\n",
    "\n",
    "print(np.all(np.equal(myoutput_slow, myoutput_fast)))"
   ]
  },
  {
   "cell_type": "markdown",
   "metadata": {
    "collapsed": true
   },
   "source": [
    "The online NumPy help is actually an extremely readable resource, and is highly recommended to find out more about the family of available NumPy methods."
   ]
  },
  {
   "cell_type": "markdown",
   "metadata": {},
   "source": [
    "### Click here for more <a href=\"https://github.com/landlab/landlab/wiki/Tutorials\">Landlab tutorials</a>"
   ]
  }
 ],
 "metadata": {
  "kernelspec": {
   "display_name": "Python 3",
   "language": "python",
   "name": "python3"
  },
  "language_info": {
   "codemirror_mode": {
    "name": "ipython",
    "version": 3
   },
   "file_extension": ".py",
   "mimetype": "text/x-python",
   "name": "python",
   "nbconvert_exporter": "python",
   "pygments_lexer": "ipython3",
   "version": "3.6.7"
  }
 },
 "nbformat": 4,
 "nbformat_minor": 1
}
