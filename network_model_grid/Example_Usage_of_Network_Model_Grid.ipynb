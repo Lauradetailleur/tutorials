{
 "cells": [
  {
   "cell_type": "markdown",
   "metadata": {},
   "source": [
    "# Introduction to NetworkModelGrid\n",
    "This tutorial provides a basic introduction to the ``NetworkModelGrid`` grid class in Landlab. \n",
    "\n",
    "In its current form it is intended to highlight current capabilities and spark discussion on what sort of capabilities this model grid class should have. "
   ]
  },
  {
   "cell_type": "code",
   "execution_count": 1,
   "metadata": {
    "collapsed": true
   },
   "outputs": [],
   "source": [
    "# Start by importing necessary modules\n",
    "from landlab.grid.network import NetworkModelGrid\n",
    "import numpy as np"
   ]
  },
  {
   "cell_type": "code",
   "execution_count": 12,
   "metadata": {},
   "outputs": [
    {
     "name": "stdout",
     "output_type": "stream",
     "text": [
      "[ 0.  0. -1.  1.  2.]\n",
      "[ 0.  1.  2.  2.  3.]\n",
      "[[0 1]\n",
      " [2 1]\n",
      " [1 3]\n",
      " [3 4]]\n"
     ]
    }
   ],
   "source": [
    "# define a grid, right now this is done by passing three datastructures:\n",
    "# grid = NetworkModelGrid((y_of_node, x_of_node), nodes_at_link)\n",
    "\n",
    "y_of_node = (0, 1, 2, 2, 3)\n",
    "x_of_node = (0, 0, -1, 1, 2)\n",
    "nodes_at_link = ((1, 0), (2, 1), (3, 1), (3, 4))\n",
    "grid = NetworkModelGrid((y_of_node, x_of_node), nodes_at_link)\n",
    "\n",
    "\n",
    "print(grid.x_of_node)\n",
    "#array([ 0.,  0., -1.,  1.])\n",
    "print(grid.y_of_node)\n",
    "#array([ 0.,  1.,  2.,  2.])\n",
    "print(grid.nodes_at_link)\n",
    "#array([[0, 1],\n",
    "#       [2, 1],\n",
    "#       [1, 3]])\n",
    "\n",
    "# we can store simple arrays at links and at nodes (complex things lower in the notebook)\n",
    "grid.at_node['z'] = [1, 2, 3, 4, 5]\n",
    "grid.at_link['z'] = [10, 20, 30, 40]"
   ]
  },
  {
   "cell_type": "code",
   "execution_count": 13,
   "metadata": {},
   "outputs": [
    {
     "data": {
      "image/png": "[encoded data removed]",
      "text/plain": [
       "<matplotlib.figure.Figure at 0x1c1cc7a5f8>"
      ]
     },
     "metadata": {},
     "output_type": "display_data"
    }
   ],
   "source": [
    "# there is a nice plotting function for simple graphs. \n",
    "\n",
    "from landlab.plot import graph\n",
    "graph.plot_graph(grid, at='node,link')"
   ]
  },
  {
   "cell_type": "code",
   "execution_count": 14,
   "metadata": {},
   "outputs": [
    {
     "data": {
      "text/plain": [
       "array([[-1,  0,  0],\n",
       "       [-1,  1,  1],\n",
       "       [-1,  0,  0],\n",
       "       [-1,  1,  0],\n",
       "       [ 1,  0,  0]])"
      ]
     },
     "execution_count": 14,
     "metadata": {},
     "output_type": "execute_result"
    }
   ],
   "source": [
    "# We can get information about the grid\n",
    "\n",
    "# see http://landlab.readthedocs.io/en/release/landlab.grid.base.html#getting-information-about-a-grid\n",
    "# for information about what we can get\n",
    "# We can only get things that require only nodes and links\n",
    "# For the standard divergences in landlab, a face or cell is also required, so we don't have those. \n",
    "\n",
    "# for example link directions at node, these are defined by the orientation\n",
    "# in cartesian space, not based on flow direction.\n",
    "\n",
    "# 1=incoming flux, -1=outgoing flux, 0=no flux.\n",
    "grid.link_dirs_at_node\n"
   ]
  },
  {
   "cell_type": "code",
   "execution_count": 15,
   "metadata": {},
   "outputs": [
    {
     "data": {
      "text/plain": [
       "array([1, 1, 3, 4])"
      ]
     },
     "execution_count": 15,
     "metadata": {},
     "output_type": "execute_result"
    }
   ],
   "source": [
    "# we gan get things like the node at link head\n",
    "grid.node_at_link_head"
   ]
  },
  {
   "cell_type": "code",
   "execution_count": 16,
   "metadata": {},
   "outputs": [
    {
     "data": {
      "text/plain": [
       "array([0, 2, 1, 3])"
      ]
     },
     "execution_count": 16,
     "metadata": {},
     "output_type": "execute_result"
    }
   ],
   "source": [
    "grid.node_at_link_tail"
   ]
  },
  {
   "cell_type": "code",
   "execution_count": 17,
   "metadata": {},
   "outputs": [
    {
     "name": "stdout",
     "output_type": "stream",
     "text": [
      "2\n",
      "2\n",
      "4\n",
      "5\n"
     ]
    }
   ],
   "source": [
    "# We can use these datastructures to move around \n",
    "# on the grid. \n",
    "\n",
    "# for example, here we'll get the value for z on the\n",
    "# node that is at the link head. \n",
    "for ind in grid.node_at_link_head:\n",
    "    print(grid.at_node['z'][ind])\n"
   ]
  },
  {
   "cell_type": "code",
   "execution_count": 18,
   "metadata": {},
   "outputs": [
    {
     "data": {
      "text/plain": [
       "array([[ 1, -1, -1],\n",
       "       [ 3,  2,  0],\n",
       "       [ 1, -1, -1],\n",
       "       [ 4,  1, -1],\n",
       "       [ 3, -1, -1]])"
      ]
     },
     "execution_count": 18,
     "metadata": {},
     "output_type": "execute_result"
    }
   ],
   "source": [
    "# and the nodes next to each node\n",
    "# here and most other places in Landlab\n",
    "# -1 is a fill value that means\n",
    "# there is no neighbor\n",
    "grid.adjacent_nodes_at_node"
   ]
  },
  {
   "cell_type": "code",
   "execution_count": 19,
   "metadata": {
    "collapsed": true
   },
   "outputs": [],
   "source": [
    "# lets add topography and make it go with Y, so we have a sloping network. \n",
    "\n",
    "# landlab's components make some assumptions about what different fields are \n",
    "# named. Typically the elevation of the surface of the earth is called\n",
    "# topographic__elevation\n",
    "\n",
    "z_node = grid.add_ones('topographic__elevation', at='node', dtype=float)\n",
    "z_node += grid.y_of_node\n",
    "\n",
    "# we are going to route flow over the network, and this requires\n",
    "# that each node has some area. \n",
    "\n",
    "# for NetworkModelGrids this means that there must be an\n",
    "# at-node array called cell_area_at_node.\n",
    "# For now we'll make it have ones, but if you had specific drainage\n",
    "# areas associated with each node, then you could put this here. \n",
    "area = grid.add_ones('cell_area_at_node', at = 'node')\n"
   ]
  },
  {
   "cell_type": "code",
   "execution_count": 33,
   "metadata": {
    "collapsed": true
   },
   "outputs": [],
   "source": [
    "# We'll import the flow accumulator and run it. \n",
    "\n",
    "from landlab.components import FlowAccumulator\n",
    "fa = FlowAccumulator(grid)\n",
    "fa.run_one_step()\n"
   ]
  },
  {
   "cell_type": "code",
   "execution_count": 34,
   "metadata": {},
   "outputs": [
    {
     "name": "stdout",
     "output_type": "stream",
     "text": [
      "[-1 -1 -1 -1]\n",
      "[0 1 2 3]\n",
      "[-1 -1 -1 -1]\n",
      "[]\n",
      "[]\n",
      "[]\n",
      "[]\n"
     ]
    }
   ],
   "source": [
    "\n",
    "@ link\n",
    "flow__direction (-1, 0, 1)\n",
    "\n",
    "@ link:\n",
    "flow__upstream_node\n",
    "flow__downstream_node\n",
    "\n",
    "@ these go from link to link\n",
    "flow__upstream_link_at_link\n",
    "flow__downstream_link_at_link\n",
    "\n",
    "\n",
    "@ node:\n",
    "flow__link_to_receiver_node\n",
    "flow__link_to_upstream_node\n",
    "\n",
    "@ these go from node to node\n",
    "flow__receiver_node\n",
    "flow__upstream_node\n",
    "\n",
    "\n",
    "\n",
    "\n",
    "reciever_nodes = grid['node']['flow__receiver_node']\n",
    "downstream_link = grid['node']['flow__link_to_receiver_node']\n",
    "print(downstream_link_at_links)\n",
    "links = np.arange(grid.size('link'))\n",
    "print(links)\n",
    "\n",
    "downstream_link_at_links = -1 * np.ones(grid.size('link'), dtype=int)\n",
    "print(downstream_link_at_links)\n",
    "\n",
    "for i in range(len(links)):\n",
    "    downstream_node = np.where(downstream_link_at_links == i)[0]\n",
    "    print(downstream_node)"
   ]
  },
  {
   "cell_type": "code",
   "execution_count": null,
   "metadata": {
    "collapsed": true
   },
   "outputs": [],
   "source": [
    "grid"
   ]
  },
  {
   "cell_type": "code",
   "execution_count": 21,
   "metadata": {},
   "outputs": [
    {
     "data": {
      "text/plain": [
       "Frozen(OrderedDict([('node', <xarray.IndexVariable 'node' (node: 5)>\n",
       "array([0, 1, 2, 3, 4])), ('mesh', <xarray.Variable ()>\n",
       "array('a',\n",
       "      dtype='<U1')\n",
       "Attributes:\n",
       "    cf_role:                 mesh_topology\n",
       "    long_name:               Topology data of 2D unstructured mesh\n",
       "    topology_dimension:      2\n",
       "    node_coordinates:        x_of_node y_of_node\n",
       "    face_node_connectivity:  nodes_at_patch\n",
       "    face_dimension:          patch\n",
       "    face_edge_connectivity:  links_at_patch\n",
       "    edge_node_connectivity:  nodes_at_link\n",
       "    edge_dimension:          link), ('y_of_node', <xarray.Variable (node: 5)>\n",
       "array([ 0.,  1.,  2.,  2.,  3.])\n",
       "Attributes:\n",
       "    long_name:  y\n",
       "    units:      m), ('x_of_node', <xarray.Variable (node: 5)>\n",
       "array([ 0.,  0., -1.,  1.,  2.])\n",
       "Attributes:\n",
       "    long_name:  x\n",
       "    units:      m), ('nodes_at_link', <xarray.Variable (link: 4, Two: 2)>\n",
       "array([[0, 1],\n",
       "       [2, 1],\n",
       "       [1, 3],\n",
       "       [3, 4]])\n",
       "Attributes:\n",
       "    cf_role:      edge_node_connectivity\n",
       "    long_name:    nodes a link tail and head\n",
       "    start_index:  0), ('z@node', <xarray.Variable (node: 5)>\n",
       "array([1, 2, 3, 4, 5])\n",
       "Attributes:\n",
       "    units:    ?), ('z@link', <xarray.Variable (link: 4)>\n",
       "array([10, 20, 30, 40])\n",
       "Attributes:\n",
       "    units:    ?), ('topographic__elevation@node', <xarray.Variable (node: 5)>\n",
       "array([ 1.,  2.,  3.,  3.,  4.])\n",
       "Attributes:\n",
       "    units:    ?), ('cell_area_at_node@node', <xarray.Variable (node: 5)>\n",
       "array([ 1.,  1.,  1.,  1.,  1.])\n",
       "Attributes:\n",
       "    units:    ?), ('water__unit_flux_in@node', <xarray.Variable (node: 5)>\n",
       "array([ 1.,  1.,  1.,  1.,  1.])\n",
       "Attributes:\n",
       "    units:    ?), ('flow__receiver_node@node', <xarray.Variable (node: 5)>\n",
       "array([0, 0, 1, 1, 3])\n",
       "Attributes:\n",
       "    units:    ?), ('topographic__steepest_slope@node', <xarray.Variable (node: 5)>\n",
       "array([ 0.      ,  1.      ,  0.707107,  0.707107,  0.707107])\n",
       "Attributes:\n",
       "    units:    ?), ('flow__link_to_receiver_node@node', <xarray.Variable (node: 5)>\n",
       "array([-1,  0,  1,  2,  3])\n",
       "Attributes:\n",
       "    units:    ?), ('flow__sink_flag@node', <xarray.Variable (node: 5)>\n",
       "array([1, 0, 0, 0, 0], dtype=int8)\n",
       "Attributes:\n",
       "    units:    ?), ('drainage_area@node', <xarray.Variable (node: 5)>\n",
       "array([ 5.,  4.,  1.,  2.,  1.])\n",
       "Attributes:\n",
       "    units:    ?), ('surface_water__discharge@node', <xarray.Variable (node: 5)>\n",
       "array([ 5.,  4.,  1.,  2.,  1.])\n",
       "Attributes:\n",
       "    units:    ?), ('flow__upstream_node_order@node', <xarray.Variable (node: 5)>\n",
       "array([0, 1, 2, 3, 4])\n",
       "Attributes:\n",
       "    units:    ?), ('flow__data_structure_delta@node', <xarray.Variable (node: 5)>\n",
       "array([2, 4, 4, 5, 5])\n",
       "Attributes:\n",
       "    units:    ?), ('flow__data_structure_D@grid', <xarray.Variable (flow__data_structure_D@grid_per_grid: 4)>\n",
       "array([array([[0, 1, 2, 3, 4]], dtype=object), -1, -1, -1], dtype=object)\n",
       "Attributes:\n",
       "    units:    ?)]))"
      ]
     },
     "execution_count": 21,
     "metadata": {},
     "output_type": "execute_result"
    }
   ],
   "source": [
    "# The flow accumulator has made a bunch of additional fields for our model grid. \n",
    "\n",
    "grid.at_node.keys()"
   ]
  },
  {
   "cell_type": "code",
   "execution_count": null,
   "metadata": {
    "collapsed": true
   },
   "outputs": [],
   "source": [
    "# for example the flow reciever node is the node ID of each node's flow reciever. \n",
    "grid['node']['flow__receiver_node']"
   ]
  },
  {
   "cell_type": "code",
   "execution_count": null,
   "metadata": {
    "collapsed": true
   },
   "outputs": [],
   "source": [
    "# in our call, we discussed a few things people would like to be able to easily access\n",
    "# Here is a quick attempt at doing these:\n",
    "\n",
    "# Identify which nodes have no incoming links. \n",
    "# The landlab standard is that a node that flows to itself has a \n",
    "# flow__receiver_node value of its node ID. this makes it easy to find\n",
    "# outlets\n",
    "\n",
    "outlet_ids = np.where(grid['node']['flow__receiver_node'] == grid.nodes)[0]\n",
    "print(outlet_ids)\n",
    "\n",
    "# Ability to assign direction to links (not link_dirs, but like a directed graph)\n",
    "# the FlowAccumulator component assigns a reciever node based on topography. \n",
    "\n",
    "# one way to do this is to use the flow recievers. \n",
    "# if necessary, we could also make a version of the link_dirs_at_node\n",
    "# attribute that was link_flow_dirs_at_node\n",
    "recievers = grid['node']['flow__receiver_node']\n",
    "\n",
    "# Get the flow data structure (this has built into it starting \n",
    "# from nodes that have no drainage area and working to the outlet).\n",
    "downstream_to_upstream_structure = grid['node']['flow__upstream_node_order']\n",
    "\n",
    "# itterate from upstream to downstream \n",
    "for node in downstream_to_upstream_structure[-1:0:-1]:\n",
    "    reciever = recievers[node]\n",
    "    print('Node ', node, ' flows to ', reciever)\n",
    "\n",
    "# if one wated to find out which nodes have no incoming flow, we'd either\n",
    "# need to add this to what the flowAccumulator saves (it calculates this, but\n",
    "# doesn't save it). \n",
    "\n",
    "# or we could just re-calculate it. \n",
    "\n",
    "from landlab.components.flow_accum import flow_accum_bw\n",
    "number_of_donors = flow_accum_bw._make_number_of_donors_array(recievers)\n",
    "\n",
    "headwater_nodes = np.where(number_of_donors==0)[0]\n",
    "print(headwater_nodes)\n"
   ]
  },
  {
   "cell_type": "code",
   "execution_count": null,
   "metadata": {
    "collapsed": true
   },
   "outputs": [],
   "source": [
    "# methods that work for with only links and nodes on other landlab grids\n",
    "# work here too. \n",
    "grid.calc_grad_at_link(z_node)\n"
   ]
  },
  {
   "cell_type": "code",
   "execution_count": null,
   "metadata": {
    "collapsed": true
   },
   "outputs": [],
   "source": [
    "# and we can save to the Ugrid format\n",
    "#grid.to_netcdf('network.nc')"
   ]
  },
  {
   "cell_type": "code",
   "execution_count": null,
   "metadata": {
    "collapsed": true
   },
   "outputs": [],
   "source": [
    "# we think this should work, but its not working on Katy's computer\n",
    "#!ncdump -h network.nc"
   ]
  },
  {
   "cell_type": "code",
   "execution_count": null,
   "metadata": {
    "collapsed": true
   },
   "outputs": [],
   "source": [
    "# Though a netcdf is created\n",
    "!ls"
   ]
  },
  {
   "cell_type": "markdown",
   "metadata": {},
   "source": [
    "One might want to store more complicated things at grids and nodes. Two things that have come up in discussions are:\n",
    "\n",
    "1) Storing ragged arrays at links and nodes\n",
    "\n",
    "2) Storing profiles (e.g. long channel profiles) on links. \n",
    "\n",
    "The next two cells give an example of such datastructures. \n",
    "\n",
    "These two examples work, though we don't know the efficiency in model usage of these implementations. \n",
    "\n",
    "These work because we can create a numpy object array of length number-of-links or number-of-nodes and store this array at links or nodes. \n",
    "\n",
    "Here we've stored numpy arrays and dictionaries, but it could be lists, sets, etc. "
   ]
  },
  {
   "cell_type": "code",
   "execution_count": null,
   "metadata": {
    "collapsed": true
   },
   "outputs": [],
   "source": [
    "# its important to john that he can also store the time dimention\n",
    "# John has attributes for links, nodes, and parcels. \n",
    "# Its important for him to be able to calculate math values, aggregate/min/max statistics of the parcels on the graph elements\n",
    "# \n",
    "\n",
    "#sediment_data = ...\n",
    "\n",
    "#aggregated_data = sediment_data.sum(grid, at='links', attribute='volume')\n",
    "\n",
    "\n",
    "# this would produce a number of links long array of the sum of volume of parcels at link. \n",
    "\n",
    "\n",
    "# store ragged arrays at links and nodes\n",
    "sediment_id = [[0],\n",
    "               [3,5],\n",
    "               [2,1,4,6], \n",
    "               [59, 30]]\n",
    "\n",
    "grid.at_link['sediment_id']=sediment_id\n",
    "\n",
    "\n",
    "water_id = [np.array([0]),\n",
    "            np.array([3,5]),\n",
    "            np.array([2,1,4,6]),\n",
    "            np.array([8,9,10,11]),\n",
    "            np.array([18])]\n",
    "\n",
    "grid.at_node['water_id']=water_id\n"
   ]
  },
  {
   "cell_type": "code",
   "execution_count": null,
   "metadata": {
    "collapsed": true
   },
   "outputs": [],
   "source": [
    "from landlab import BAD_INDEX_VALUE\n",
    "# we can move items around in these ragged arrays.\n",
    "print(sediment_id)\n",
    "\n",
    "# lets start from the outlet, and move the last arrived sediment ID downstream\n",
    "\n",
    "# we'll need the flow link to recieving node\n",
    "# the flow accumulator made this for us. \n",
    "flow__link_to_receiver_node = grid['node']['flow__link_to_receiver_node']\n",
    "\n",
    "for node in downstream_to_upstream_structure:\n",
    "    # get the reciever node\n",
    "    reciever = recievers[node]\n",
    "    \n",
    "    # get the link flowing from source to reciever\n",
    "    source_link = flow__link_to_receiver_node[node]\n",
    "    \n",
    "    # get the link flowing from the reciever node\n",
    "    destination_link = flow__link_to_receiver_node[reciever]\n",
    "     \n",
    "    if source_link != BAD_INDEX_VALUE:\n",
    "        try:\n",
    "\n",
    "            moved = grid.at_link['sediment_id'][source_link].pop()\n",
    "            print('Picking up sediment ', moved, 'from link ', source_link)\n",
    "\n",
    "            if destination_link == BAD_INDEX_VALUE:\n",
    "                # transporting below outlet, make the sediment disapear:\n",
    "                print('Moving ', moved, ' out of the domain')\n",
    "                pass\n",
    "            else:\n",
    "                print('Moving ', moved, ' from link ', source_link, ' to link ', destination_link)\n",
    "                grid.at_link['sediment_id'][destination_link].append(moved)\n",
    "        except IndexError:\n",
    "            print('No sediment on link ', source_link)\n",
    "print(sediment_id)\n",
    "print(grid.at_link['sediment_id'])"
   ]
  },
  {
   "cell_type": "code",
   "execution_count": null,
   "metadata": {
    "collapsed": true
   },
   "outputs": [],
   "source": [
    "# store profiles at links and nodes\n",
    "profiles_at_link = [{'x': np.arange(10), 'y': np.random.randn(10)},\n",
    "                    {'x': np.arange(30), 'y': np.random.randn(30)},\n",
    "                    {'x': np.arange(40), 'y': np.random.randn(40)},\n",
    "                    {'x': np.arange(35), 'y': np.random.randn(25)}]\n",
    "\n",
    "grid.at_link['sediment_id']=profiles_at_link"
   ]
  },
  {
   "cell_type": "code",
   "execution_count": null,
   "metadata": {
    "collapsed": true
   },
   "outputs": [],
   "source": [
    "print(grid.at_link['sediment_id'])\n"
   ]
  },
  {
   "cell_type": "markdown",
   "metadata": {
    "collapsed": true
   },
   "source": [
    "# Discussion\n",
    "What other things need to be stored on the Grid?\n"
   ]
  },
  {
   "cell_type": "code",
   "execution_count": null,
   "metadata": {
    "collapsed": true
   },
   "outputs": [],
   "source": []
  }
 ],
 "metadata": {
  "kernelspec": {
   "display_name": "Python 3",
   "language": "python",
   "name": "python3"
  },
  "language_info": {
   "codemirror_mode": {
    "name": "ipython",
    "version": 3
   },
   "file_extension": ".py",
   "mimetype": "text/x-python",
   "name": "python",
   "nbconvert_exporter": "python",
   "pygments_lexer": "ipython3",
   "version": "3.6.2"
  }
 },
 "nbformat": 4,
 "nbformat_minor": 2
}
