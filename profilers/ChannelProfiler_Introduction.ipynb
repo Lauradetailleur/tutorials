{
 "cells": [
  {
   "cell_type": "markdown",
   "metadata": {},
   "source": [
    "To illustrate, lets start by creating a landscape model."
   ]
  },
  {
   "cell_type": "code",
   "execution_count": null,
   "metadata": {},
   "outputs": [],
   "source": [
    "import numpy as np\n",
    "from landlab import RasterModelGrid\n",
    "from landlab.components import FlowAccumulator, ChannelProfiler\n",
    "from landlab.components import FastscapeEroder\n",
    "np.random.seed(42)\n",
    "\n",
    "mg = RasterModelGrid((100, 120), xy_spacing=2)\n",
    "z = mg.add_zeros('topographic__elevation', at='node')\n",
    "z[mg.core_nodes] += np.random.randn(mg.core_nodes.size)\n",
    "fa = FlowAccumulator(mg)\n",
    "sp = FastscapeEroder(mg, K_sp=0.0001)\n",
    "dt = 1000\n",
    "for i in range(200):\n",
    "    z[mg.core_nodes] += 0.001 * dt\n",
    "    fa.run_one_step()\n",
    "    sp.run_one_step(dt=dt)"
   ]
  },
  {
   "cell_type": "markdown",
   "metadata": {},
   "source": [
    "Some options:\n",
    "\n",
    "Default: Extract a the single biggest channel draining to the model grid boundary traced back all the way to the watershed divide."
   ]
  },
  {
   "cell_type": "code",
   "execution_count": null,
   "metadata": {},
   "outputs": [],
   "source": [
    "profiler = ChannelProfiler(mg)\n",
    "profiler.run_one_step()\n",
    "profiler.plot_profiles_in_map_view()    "
   ]
  },
  {
   "cell_type": "markdown",
   "metadata": {},
   "source": [
    "TODO"
   ]
  },
  {
   "cell_type": "code",
   "execution_count": null,
   "metadata": {},
   "outputs": [],
   "source": [
    "profiler.plot_profiles()    "
   ]
  },
  {
   "cell_type": "markdown",
   "metadata": {},
   "source": [
    "Extract the largest channel draining to each of the four largest outlet nodes on the model grid boundary traced back all the way to the watershed divide."
   ]
  },
  {
   "cell_type": "code",
   "execution_count": null,
   "metadata": {},
   "outputs": [],
   "source": [
    "profiler = ChannelProfiler(mg, number_of_watersheds=4)\n",
    "profiler.run_one_step()\n",
    "profiler.plot_profiles_in_map_view() "
   ]
  },
  {
   "cell_type": "code",
   "execution_count": null,
   "metadata": {},
   "outputs": [],
   "source": [
    "profiler.plot_profiles() "
   ]
  },
  {
   "cell_type": "markdown",
   "metadata": {},
   "source": [
    "Extract the single largest channel draining to node 2933. Note that the keyword argument ``outlet_nodes`` must be an iterable."
   ]
  },
  {
   "cell_type": "code",
   "execution_count": null,
   "metadata": {},
   "outputs": [],
   "source": [
    "profiler = ChannelProfiler(mg, outlet_nodes=[2933])\n",
    "profiler.run_one_step()\n",
    "profiler.plot_profiles_in_map_view() "
   ]
  },
  {
   "cell_type": "code",
   "execution_count": null,
   "metadata": {},
   "outputs": [],
   "source": [
    "profiler.plot_profiles()"
   ]
  },
  {
   "cell_type": "markdown",
   "metadata": {},
   "source": [
    "Extract the largest channel draining to each of the four largest outlet nodes on the model grid boundary traced back to nodes with ``channel_definition_field`` values of 500."
   ]
  },
  {
   "cell_type": "code",
   "execution_count": null,
   "metadata": {},
   "outputs": [],
   "source": [
    "profiler = ChannelProfiler(mg, number_of_watersheds=4, minimum_channel_threshold=500)\n",
    "profiler.run_one_step()\n",
    "profiler.plot_profiles_in_map_view() "
   ]
  },
  {
   "cell_type": "code",
   "execution_count": null,
   "metadata": {},
   "outputs": [],
   "source": [
    "profiler.plot_profiles() "
   ]
  },
  {
   "cell_type": "markdown",
   "metadata": {},
   "source": [
    "Extract a the single biggest channel draining to the model grid boundary\n",
    "based on the field ``surface_water__discharge`` traced back to discharge\n",
    "values of 500."
   ]
  },
  {
   "cell_type": "code",
   "execution_count": null,
   "metadata": {},
   "outputs": [],
   "source": [
    "profiler = ChannelProfiler(mg, channel_definition_field='surface_water__discharge', minimum_channel_threshold=500)\n",
    "profiler.run_one_step()\n",
    "profiler.plot_profiles_in_map_view() "
   ]
  },
  {
   "cell_type": "markdown",
   "metadata": {},
   "source": [
    "Extract the single largest channel within *all* watersheds with an outlet with ``channel_definition_field`` greater than 1e3. Trace the channels up to the point in each watershed in which the channels have values in the ``channel_definition_field`` of 500."
   ]
  },
  {
   "cell_type": "code",
   "execution_count": null,
   "metadata": {},
   "outputs": [],
   "source": [
    "profiler = ChannelProfiler(mg, number_of_watersheds=None, minimum_outlet_threshold=1e3, minimum_channel_threshold=500)\n",
    "profiler.run_one_step()\n",
    "profiler.plot_profiles_in_map_view() "
   ]
  },
  {
   "cell_type": "code",
   "execution_count": null,
   "metadata": {},
   "outputs": [],
   "source": [
    "profiler.plot_profiles() "
   ]
  },
  {
   "cell_type": "markdown",
   "metadata": {},
   "source": [
    "Extract two trunk channels beginning at the given nodes, traced up to a minimum ``channel_definition_field`` value of of 500. Note that ``number_of_watersheds`` must match the size of ``outlet_nodes``."
   ]
  },
  {
   "cell_type": "code",
   "execution_count": null,
   "metadata": {},
   "outputs": [],
   "source": [
    "profiler = ChannelProfiler(mg, outlet_nodes=[6661,  6250], number_of_watersheds=2, minimum_channel_threshold=500)\n",
    "profiler.run_one_step()\n",
    "profiler.plot_profiles_in_map_view() "
   ]
  },
  {
   "cell_type": "code",
   "execution_count": null,
   "metadata": {},
   "outputs": [],
   "source": [
    "profiler.plot_profiles() "
   ]
  },
  {
   "cell_type": "markdown",
   "metadata": {},
   "source": [
    "Extract every possible channel (not just the largest one), leading from the four highest model grid boundary nodes traced back to a ``channel_definition_field`` threshold of 20."
   ]
  },
  {
   "cell_type": "code",
   "execution_count": null,
   "metadata": {},
   "outputs": [],
   "source": [
    "profiler = ChannelProfiler(mg, number_of_watersheds=4, main_channel_only=False, minimum_channel_threshold=20)\n",
    "profiler.run_one_step()\n",
    "profiler.plot_profiles_in_map_view() "
   ]
  },
  {
   "cell_type": "code",
   "execution_count": null,
   "metadata": {},
   "outputs": [],
   "source": [
    "profiler.plot_profiles() "
   ]
  },
  {
   "cell_type": "code",
   "execution_count": null,
   "metadata": {},
   "outputs": [],
   "source": []
  }
 ],
 "metadata": {
  "kernelspec": {
   "display_name": "Python 3",
   "language": "python",
   "name": "python3"
  },
  "language_info": {
   "codemirror_mode": {
    "name": "ipython",
    "version": 3
   },
   "file_extension": ".py",
   "mimetype": "text/x-python",
   "name": "python",
   "nbconvert_exporter": "python",
   "pygments_lexer": "ipython3",
   "version": "3.6.8"
  }
 },
 "nbformat": 4,
 "nbformat_minor": 2
}
