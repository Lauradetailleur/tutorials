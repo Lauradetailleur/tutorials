{
 "cells": [
  {
   "cell_type": "code",
   "execution_count": null,
   "metadata": {},
   "outputs": [],
   "source": [
    "import matplotlib.pylab as plt\n",
    "import numpy as np\n",
    "\n",
    "from landlab import HexModelGrid, imshow_grid\n",
    "from landlab.components import FlowAccumulator, LinearDiffuser, FastscapeEroder, ChannelProfiler"
   ]
  },
  {
   "cell_type": "code",
   "execution_count": null,
   "metadata": {},
   "outputs": [],
   "source": [
    "#grid = HexModelGrid((20, 10), 50)\n",
    "\n",
    "nr = 50\n",
    "nc = 30\n",
    "dx = 50\n",
    "\n",
    "np.random.seed(42)\n",
    "grid1 = HexModelGrid((nr, nc), dx)\n",
    "grid2 = HexModelGrid((nr, nc), dx)\n",
    "\n",
    "initial_noise = np.random.rand(grid1.core_nodes.size)\n",
    "\n",
    "z1 = grid1.add_zeros(\"topographic__elevation\", at=\"node\")\n",
    "z1[grid1.core_nodes] += initial_noise\n",
    "\n",
    "z2 = grid2.add_zeros(\"topographic__elevation\", at=\"node\")\n",
    "z2[grid2.core_nodes] += initial_noise\n",
    "\n",
    "plt.figure()\n",
    "imshow_grid(grid1, z1, plot_name=\"baseline\")\n",
    "plt.figure()\n",
    "imshow_grid(grid2, z2, plot_name=\"with change in K\")"
   ]
  },
  {
   "cell_type": "code",
   "execution_count": null,
   "metadata": {},
   "outputs": [],
   "source": [
    "K1 = grid1.add_ones(\"water_erodibility\", at=\"node\")\n",
    "K1[:] = 0.0001\n",
    "\n",
    "K2 = grid2.add_ones(\"water_erodibility\", at=\"node\")\n",
    "K2[:] = 0.0001"
   ]
  },
  {
   "cell_type": "code",
   "execution_count": null,
   "metadata": {},
   "outputs": [],
   "source": [
    "U = 0.0001\n",
    "D = 0.01\n",
    "\n",
    "K_min = 0.00001\n",
    "K_max = 0.001"
   ]
  },
  {
   "cell_type": "code",
   "execution_count": null,
   "metadata": {},
   "outputs": [],
   "source": [
    "fa1 = FlowAccumulator(grid1)\n",
    "sp1 = FastscapeEroder(grid1, K_sp=\"water_erodibility\")\n",
    "ld1 = LinearDiffuser(grid1, linear_diffusivity=D)\n",
    "\n",
    "fa2 = FlowAccumulator(grid2)\n",
    "sp2 = FastscapeEroder(grid2, K_sp=\"water_erodibility\")\n",
    "ld2 = LinearDiffuser(grid2, linear_diffusivity=D)"
   ]
  },
  {
   "cell_type": "code",
   "execution_count": null,
   "metadata": {},
   "outputs": [],
   "source": [
    "total_time = 1e6\n",
    "dt = 100\n",
    "nts = int(total_time / dt)\n",
    "\n",
    "for i in range(nts):\n",
    "\n",
    "    # topographic__steepest_slope is update in fa.r1s()\n",
    "    fa1.run_one_step()\n",
    "    fa2.run_one_step()\n",
    "\n",
    "    # now we want to update K.\n",
    "    # slope will vary between 0.0 0.021\n",
    "    # When slope is 0 lets make K = 0.00001\n",
    "    # When slope is 0.02 or above lets make K = 0.001\n",
    "\n",
    "    slp2 = grid2.at_node[\"topographic__steepest_slope\"].copy()\n",
    "    slp2[slp2 > 0.02] = 0.02\n",
    "\n",
    "    grid2.at_node[\"water_erodibility\"][:] = K_min + (K_max - K_min) * slp2 / (\n",
    "        0.02 - 0.0)\n",
    "\n",
    "    sp1.run_one_step(dt)\n",
    "    ld1.run_one_step(dt)\n",
    "    z1[grid1.core_nodes] += U * dt\n",
    "\n",
    "    sp2.run_one_step(dt)\n",
    "    ld2.run_one_step(dt)\n",
    "    z2[grid2.core_nodes] += U * dt"
   ]
  },
  {
   "cell_type": "code",
   "execution_count": null,
   "metadata": {},
   "outputs": [],
   "source": [
    "vmax = max(z1.max(), z2.max())\n",
    "\n",
    "plt.figure()\n",
    "imshow_grid(grid1, z1, plot_name=\"baseline\", vmax=vmax, cmap='gist_earth')\n",
    "plt.figure()\n",
    "imshow_grid(grid2,\n",
    "            z2,\n",
    "            plot_name=\"with change in K\",\n",
    "            vmax=vmax,\n",
    "            cmap='gist_earth')"
   ]
  },
  {
   "cell_type": "code",
   "execution_count": null,
   "metadata": {},
   "outputs": [],
   "source": [
    "plt.figure()\n",
    "imshow_grid(grid1, \"topographic__steepest_slope\", plot_name=\"baseline\")\n",
    "plt.figure()\n",
    "imshow_grid(grid2, \"topographic__steepest_slope\", plot_name=\"with change in K\")"
   ]
  },
  {
   "cell_type": "code",
   "execution_count": null,
   "metadata": {},
   "outputs": [],
   "source": [
    "cp1 = ChannelProfiler(grid1, number_of_watersheds=4, main_channel_only=True)\n",
    "cp1.run_one_step()\n",
    "plt.figure()\n",
    "cp1.plot_profiles()\n",
    "ax = plt.gca()\n",
    "ax.set_title(\"baseline\")\n",
    "\n",
    "cp2 = ChannelProfiler(grid2, number_of_watersheds=4, main_channel_only=True)\n",
    "cp2.run_one_step()\n",
    "plt.figure()\n",
    "cp2.plot_profiles()\n",
    "ax = plt.gca()\n",
    "ax.set_title(\"with change in K\")"
   ]
  },
  {
   "cell_type": "code",
   "execution_count": null,
   "metadata": {},
   "outputs": [],
   "source": [
    "plt.loglog(grid1.at_node[\"topographic__steepest_slope\"],\n",
    "           grid1.at_node[\"drainage_area\"],\n",
    "           \".\",\n",
    "           label=\"baseline\")\n",
    "plt.loglog(grid2.at_node[\"topographic__steepest_slope\"],\n",
    "           grid2.at_node[\"drainage_area\"],\n",
    "           \".\",\n",
    "           label=\"with change in K\")\n",
    "\n",
    "plt.legend()"
   ]
  },
  {
   "cell_type": "code",
   "execution_count": null,
   "metadata": {},
   "outputs": [],
   "source": []
  }
 ],
 "metadata": {
  "kernelspec": {
   "display_name": "Python 3",
   "language": "python",
   "name": "python3"
  },
  "language_info": {
   "codemirror_mode": {
    "name": "ipython",
    "version": 3
   },
   "file_extension": ".py",
   "mimetype": "text/x-python",
   "name": "python",
   "nbconvert_exporter": "python",
   "pygments_lexer": "ipython3",
   "version": "3.7.3"
  }
 },
 "nbformat": 4,
 "nbformat_minor": 2
}
