{
 "cells": [
  {
   "cell_type": "markdown",
   "metadata": {},
   "source": [
    "<a href=\"http://landlab.github.io\"><img style=\"float: left\" src=\"https://raw.githubusercontent.com/landlab/tutorials/release/landlab_header.png\"></a>"
   ]
  },
  {
   "cell_type": "markdown",
   "metadata": {},
   "source": [
    "# DataRecord Tutorial"
   ]
  },
  {
   "cell_type": "markdown",
   "metadata": {},
   "source": [
    "<hr>\n",
    "<small> For instructions on how to run an interactive IPython notebook, click here: <a href=\"https://github.com/landlab/tutorials/blob/release/README.md\">https://github.com/landlab/tutorials/blob/release/README.md</a></small><br>\n",
    "<small>For the unexpanded version to download and run, click here: <a href=\"https://nbviewer.jupyter.org/github/landlab/tutorials/blob/release/fault_scarp/landlab-fault-scarp-unexpanded.ipynb\">https://nbviewer.jupyter.org/github/landlab/tutorials/blob/release/fault_scarp/landlab-fault-scarp-unexpanded.ipynb</a></small><br>\n",
    "<small>For more Landlab tutorials, click here: <a href=\"https://github.com/landlab/landlab/wiki/Tutorials\">https://github.com/landlab/landlab/wiki/Tutorials</a></small>\n",
    "<hr>\n"
   ]
  },
  {
   "cell_type": "markdown",
   "metadata": {},
   "source": [
    "This tutorial illustrates how to record variables of a Landlab model using DataRecord.\n",
    "\n",
    "## What is DataRecord?\n",
    "DataRecord is a data structure that can hold data variables relating to a Landlab model or to items living on the [Landlab grid](https://nbviewer.jupyter.org/github/landlab/tutorials/blob/release/grid_object_demo/grid_object_demo.ipynb).\n",
    "\n",
    "DataRecord is built on [xarray](http://xarray.pydata.org/en/stable/index.html)'s Dataset structure: a multi-dimensional, in memory, array database. Dataset implements the mapping interface with keys given by variable names and values given by DataArray objects for each variable name. DataRecord inherits all the methods and attributes from xarray.Dataset.\n",
    "\n",
    "A DataRecord can have one or both (or none) of the following dimensions:\n",
    "- `time`: The simulated time in the model.\n",
    "- `item_id`: An identifier of a generic item in the model.\n",
    "\n",
    "Coordinates are one dimensional arrays used for label-based indexing.  \n",
    "\n",
    "The examples below illustrate different use cases for DataRecord.  \n",
    "\n",
    "We start by importing the necessary libraries:"
   ]
  },
  {
   "cell_type": "code",
   "execution_count": 1,
   "metadata": {},
   "outputs": [],
   "source": [
    "import numpy as np\n",
    "from landlab import RasterModelGrid\n",
    "from landlab.data_record import DataRecord\n",
    "\n",
    "from landlab import imshow_grid\n",
    "import matplotlib.pyplot as plt\n",
    "from matplotlib.pyplot import plot, subplot, xlabel, ylabel, title, legend, figure\n",
    "%matplotlib inline"
   ]
  },
  {
   "cell_type": "markdown",
   "metadata": {},
   "source": [
    "## Case 1. DataRecord with 1 dimension: time\n",
    "Let's start with an example where we set DataRecord to have only `time` as a dimension.\n",
    "An example variable that varies over time and relates to the Landlab grid could be the mean elevation of the topographic surface. We will store this example variable in DataRecord.\n",
    "\n",
    "We create a Raster grid, create a field (at nodes) called `topographic__elevation` and populate it with random values."
   ]
  },
  {
   "cell_type": "code",
   "execution_count": 2,
   "metadata": {},
   "outputs": [],
   "source": [
    "grid_1 = RasterModelGrid((10, 10), (1., 1.))\n",
    "z = np.random.rand(100)\n",
    "_ = grid_1.add_field('node', 'topographic__elevation', z)"
   ]
  },
  {
   "cell_type": "markdown",
   "metadata": {},
   "source": [
    "Print the current mean elevation."
   ]
  },
  {
   "cell_type": "code",
   "execution_count": 3,
   "metadata": {},
   "outputs": [
    {
     "name": "stdout",
     "output_type": "stream",
     "text": [
      "0.459605844411\n"
     ]
    }
   ],
   "source": [
    "current_mean = np.mean(grid_1.at_node['topographic__elevation'])\n",
    "print(current_mean)"
   ]
  },
  {
   "cell_type": "markdown",
   "metadata": {},
   "source": [
    "Now we will create a DataRecord that will hold the data variable `mean_elevation` relating to `grid_1`. The first value, at time=0 is the current mean elevation on the grid."
   ]
  },
  {
   "cell_type": "code",
   "execution_count": 4,
   "metadata": {},
   "outputs": [],
   "source": [
    "dr_1 = DataRecord(grid_1,\n",
    "                  time=[0.],\n",
    "                  items=None,\n",
    "                  data_vars={'mean_elevation' : (['time'], ([current_mean]))},\n",
    "                  attrs={'mean_elevation' : 'y'})"
   ]
  },
  {
   "cell_type": "markdown",
   "metadata": {},
   "source": [
    "The input arguments passed in this case are: the grid, time (as a 1-element list), a data variable dictionary and an attributes dictionary. Note that `items` is not filled, we will see its use in other cases below.\n",
    "\n",
    "Note the format of the `data_vars` dictionary:  \n",
    "```python\n",
    "    {'variable_name_1' : (['dimensions'], variable_data_1),\n",
    "     'variable_name_2' : (['dimensions'], variable_data_2),\n",
    "     ...}\n",
    "```\n",
    "\n",
    "The attributes dictionary `attrs` can be used to store metadata about the variables: in this example, we use it to store the variable units.\n",
    "\n",
    "So far, our DataRecord `dr_1` holds one variable `mean_elevation` with one record at time=0.\n"
   ]
  },
  {
   "cell_type": "code",
   "execution_count": 5,
   "metadata": {},
   "outputs": [
    {
     "data": {
      "text/plain": [
       "<xarray.DataRecord>\n",
       "Dimensions:         (time: 1)\n",
       "Coordinates:\n",
       "  * time            (time) float64 0.0\n",
       "Data variables:\n",
       "    mean_elevation  (time) float64 0.4596\n",
       "Attributes:\n",
       "    mean_elevation:  y"
      ]
     },
     "execution_count": 5,
     "metadata": {},
     "output_type": "execute_result"
    }
   ],
   "source": [
    "dr_1"
   ]
  },
  {
   "cell_type": "markdown",
   "metadata": {},
   "source": [
    "We can visualise this data structure as a [pandas dataframe](https://pandas.pydata.org/pandas-docs/stable/generated/pandas.DataFrame.html):"
   ]
  },
  {
   "cell_type": "code",
   "execution_count": 6,
   "metadata": {},
   "outputs": [
    {
     "data": {
      "text/html": [
       "<div>\n",
       "<style scoped>\n",
       "    .dataframe tbody tr th:only-of-type {\n",
       "        vertical-align: middle;\n",
       "    }\n",
       "\n",
       "    .dataframe tbody tr th {\n",
       "        vertical-align: top;\n",
       "    }\n",
       "\n",
       "    .dataframe thead th {\n",
       "        text-align: right;\n",
       "    }\n",
       "</style>\n",
       "<table border=\"1\" class=\"dataframe\">\n",
       "  <thead>\n",
       "    <tr style=\"text-align: right;\">\n",
       "      <th></th>\n",
       "      <th>mean_elevation</th>\n",
       "    </tr>\n",
       "    <tr>\n",
       "      <th>time</th>\n",
       "      <th></th>\n",
       "    </tr>\n",
       "  </thead>\n",
       "  <tbody>\n",
       "    <tr>\n",
       "      <th>0.0</th>\n",
       "      <td>0.459606</td>\n",
       "    </tr>\n",
       "  </tbody>\n",
       "</table>\n",
       "</div>"
      ],
      "text/plain": [
       "      mean_elevation\n",
       "time                \n",
       "0.0         0.459606"
      ]
     },
     "execution_count": 6,
     "metadata": {},
     "output_type": "execute_result"
    }
   ],
   "source": [
    "dr_1.to_dataframe()"
   ]
  },
  {
   "cell_type": "markdown",
   "metadata": {},
   "source": [
    "Now we will run a simple model where the grid surface is uplifted several times and the mean elevation is recorded at every time step. We use the method `add_record` to put the new value in the DataRecord `dr_1`:"
   ]
  },
  {
   "cell_type": "code",
   "execution_count": 7,
   "metadata": {},
   "outputs": [],
   "source": [
    "total_time = 100\n",
    "dt = 20\n",
    "\n",
    "uplift_rate = 0.01 # m/y\n",
    "\n",
    "for t in range(20, total_time, dt):\n",
    "    grid_1.at_node['topographic__elevation'] += uplift_rate * dt\n",
    "    dr_1.add_record(time=[t],\n",
    "                   new_record={'mean_elevation' : (['time'], ([np.mean(grid_1.at_node['topographic__elevation'])]))})\n",
    "    "
   ]
  },
  {
   "cell_type": "markdown",
   "metadata": {},
   "source": [
    "Let's see what was recorded:"
   ]
  },
  {
   "cell_type": "code",
   "execution_count": 8,
   "metadata": {},
   "outputs": [
    {
     "data": {
      "text/plain": [
       "array([ 0.45960584,  0.65960584,  0.85960584,  1.05960584,  1.25960584])"
      ]
     },
     "execution_count": 8,
     "metadata": {},
     "output_type": "execute_result"
    }
   ],
   "source": [
    "dr_1['mean_elevation'].values"
   ]
  },
  {
   "cell_type": "markdown",
   "metadata": {},
   "source": [
    "The corresponding time coordinates are:"
   ]
  },
  {
   "cell_type": "code",
   "execution_count": 9,
   "metadata": {},
   "outputs": [
    {
     "data": {
      "text/plain": [
       "array([  0.,  20.,  40.,  60.,  80.])"
      ]
     },
     "execution_count": 9,
     "metadata": {},
     "output_type": "execute_result"
    }
   ],
   "source": [
    "dr_1.time.values"
   ]
  },
  {
   "cell_type": "markdown",
   "metadata": {},
   "source": [
    "Notice the different syntax used here: \n",
    "- `time` is a **dimension** and can be called by `dr_1.time` (or `dr_1['time']`)\n",
    "- whereas `mean_elevation` is a **variable** and must be called by `dr_1['mean_elevation']`\n",
    "\n",
    "DataRecord also has the handy property `time_coordinates` that returns these values as a list:\n",
    "\n",
    "\n"
   ]
  },
  {
   "cell_type": "code",
   "execution_count": 10,
   "metadata": {},
   "outputs": [
    {
     "data": {
      "text/plain": [
       "[0.0, 20.0, 40.0, 60.0, 80.0]"
      ]
     },
     "execution_count": 10,
     "metadata": {},
     "output_type": "execute_result"
    }
   ],
   "source": [
    "dr_1.time_coordinates"
   ]
  },
  {
   "cell_type": "markdown",
   "metadata": {},
   "source": [
    "You can use the methods `get_data` and `set_data` to access and change the data:"
   ]
  },
  {
   "cell_type": "code",
   "execution_count": 11,
   "metadata": {},
   "outputs": [
    {
     "data": {
      "text/plain": [
       "array(0.6596058444111567)"
      ]
     },
     "execution_count": 11,
     "metadata": {},
     "output_type": "execute_result"
    }
   ],
   "source": [
    "dr_1.get_data(time=[20.], data_variable='mean_elevation')"
   ]
  },
  {
   "cell_type": "code",
   "execution_count": 12,
   "metadata": {},
   "outputs": [
    {
     "data": {
      "text/plain": [
       "<xarray.DataArray 'mean_elevation' (time: 5)>\n",
       "array([ 0.459606,  0.659606,  0.859606,  1.059606,  1.5     ])\n",
       "Coordinates:\n",
       "  * time     (time) float64 0.0 20.0 40.0 60.0 80.0"
      ]
     },
     "execution_count": 12,
     "metadata": {},
     "output_type": "execute_result"
    }
   ],
   "source": [
    "dr_1.set_data(time=[80.], data_variable='mean_elevation', new_value=1.5)\n",
    "\n",
    "dr_1['mean_elevation']"
   ]
  },
  {
   "cell_type": "markdown",
   "metadata": {},
   "source": [
    "## Case 2. DataRecord with 1 dimension: item_id\n",
    "An important feature of DataRecord is that it allows to create **items** that live on grid elements, and variables describing them. For instance, we can create *boulders* and store information about their *size* and *lithology*.\n",
    "\n",
    "To create items, we need to instantiate a DataRecord and pass it a dictionary describing where each item lives on the Landlab grid. The format of this dictionary is:  \n",
    "```python\n",
    "    {'grid_element' : [grid_element],\n",
    "     'element_id' : [element_id]}\n",
    "```\n",
    "  \n",
    "where:\n",
    "- `grid_element` is a str or number-of-items-long array containing strings of the grid element(s) on which the items live (e.g.: node, link). Valid locations depend on the grid type (`my_grid.groups` gives the valid locations for your grid). If `grid_element` is provided as a string, it is assumed that all items live on the same type of grid element.\n",
    "- `element_id` is an array of integers identifying the grid element IDs on which each item resides. For each item, `element_id` must be less than the number of this item's `grid_element` that exist on the grid. For example, if the grid has 10 links, no item can live at link 10 or link -3 because only links 0 to 9 exist in this example.\n"
   ]
  },
  {
   "cell_type": "code",
   "execution_count": 13,
   "metadata": {},
   "outputs": [
    {
     "data": {
      "text/html": [
       "<div>\n",
       "<style scoped>\n",
       "    .dataframe tbody tr th:only-of-type {\n",
       "        vertical-align: middle;\n",
       "    }\n",
       "\n",
       "    .dataframe tbody tr th {\n",
       "        vertical-align: top;\n",
       "    }\n",
       "\n",
       "    .dataframe thead th {\n",
       "        text-align: right;\n",
       "    }\n",
       "</style>\n",
       "<table border=\"1\" class=\"dataframe\">\n",
       "  <thead>\n",
       "    <tr style=\"text-align: right;\">\n",
       "      <th></th>\n",
       "      <th>grid_element</th>\n",
       "      <th>element_id</th>\n",
       "      <th>boulder_size</th>\n",
       "      <th>boulder_litho</th>\n",
       "    </tr>\n",
       "    <tr>\n",
       "      <th>item_id</th>\n",
       "      <th></th>\n",
       "      <th></th>\n",
       "      <th></th>\n",
       "      <th></th>\n",
       "    </tr>\n",
       "  </thead>\n",
       "  <tbody>\n",
       "    <tr>\n",
       "      <th>0</th>\n",
       "      <td>node</td>\n",
       "      <td>6</td>\n",
       "      <td>1.0</td>\n",
       "      <td>sandstone</td>\n",
       "    </tr>\n",
       "    <tr>\n",
       "      <th>1</th>\n",
       "      <td>node</td>\n",
       "      <td>11</td>\n",
       "      <td>1.5</td>\n",
       "      <td>granite</td>\n",
       "    </tr>\n",
       "    <tr>\n",
       "      <th>2</th>\n",
       "      <td>node</td>\n",
       "      <td>12</td>\n",
       "      <td>3.0</td>\n",
       "      <td>sandstone</td>\n",
       "    </tr>\n",
       "    <tr>\n",
       "      <th>3</th>\n",
       "      <td>node</td>\n",
       "      <td>17</td>\n",
       "      <td>1.0</td>\n",
       "      <td>sandstone</td>\n",
       "    </tr>\n",
       "    <tr>\n",
       "      <th>4</th>\n",
       "      <td>node</td>\n",
       "      <td>12</td>\n",
       "      <td>2.0</td>\n",
       "      <td>limestone</td>\n",
       "    </tr>\n",
       "  </tbody>\n",
       "</table>\n",
       "</div>"
      ],
      "text/plain": [
       "        grid_element  element_id  boulder_size boulder_litho\n",
       "item_id                                                     \n",
       "0               node           6           1.0     sandstone\n",
       "1               node          11           1.5       granite\n",
       "2               node          12           3.0     sandstone\n",
       "3               node          17           1.0     sandstone\n",
       "4               node          12           2.0     limestone"
      ]
     },
     "execution_count": 13,
     "metadata": {},
     "output_type": "execute_result"
    }
   ],
   "source": [
    "grid_2 = RasterModelGrid((5, 5), (2, 2))\n",
    "\n",
    "boulders = {'grid_element' : 'node',\n",
    "            'element_id' : np.array([6, 11, 12, 17, 12])}\n",
    "\n",
    "initial_boulder_sizes = np.array([1, 1.5, 3, 1, 2])\n",
    "boulder_lithologies = np.array(['sandstone', 'granite', 'sandstone', 'sandstone', 'limestone'])\n",
    "\n",
    "dr_2 = DataRecord(grid_2,\n",
    "                 time=None,\n",
    "                 items=boulders,\n",
    "                 data_vars={'boulder_size': (['item_id'], initial_boulder_sizes),\n",
    "                           'boulder_litho': (['item_id'], boulder_lithologies)},\n",
    "                 attrs={'boulder_size': 'm'})\n",
    "dr_2.to_dataframe()"
   ]
  },
  {
   "cell_type": "markdown",
   "metadata": {},
   "source": [
    "Each *item* (in this case, each boulder) is designated by an `item_id`, its position on the grid is described by a `grid_element` and an `element_id`.\n",
    "\n",
    "We can use the method `add_item` to add new boulders to the record:"
   ]
  },
  {
   "cell_type": "code",
   "execution_count": 14,
   "metadata": {},
   "outputs": [
    {
     "data": {
      "text/html": [
       "<div>\n",
       "<style scoped>\n",
       "    .dataframe tbody tr th:only-of-type {\n",
       "        vertical-align: middle;\n",
       "    }\n",
       "\n",
       "    .dataframe tbody tr th {\n",
       "        vertical-align: top;\n",
       "    }\n",
       "\n",
       "    .dataframe thead th {\n",
       "        text-align: right;\n",
       "    }\n",
       "</style>\n",
       "<table border=\"1\" class=\"dataframe\">\n",
       "  <thead>\n",
       "    <tr style=\"text-align: right;\">\n",
       "      <th></th>\n",
       "      <th>grid_element</th>\n",
       "      <th>element_id</th>\n",
       "      <th>boulder_size</th>\n",
       "      <th>boulder_litho</th>\n",
       "    </tr>\n",
       "    <tr>\n",
       "      <th>item_id</th>\n",
       "      <th></th>\n",
       "      <th></th>\n",
       "      <th></th>\n",
       "      <th></th>\n",
       "    </tr>\n",
       "  </thead>\n",
       "  <tbody>\n",
       "    <tr>\n",
       "      <th>0</th>\n",
       "      <td>node</td>\n",
       "      <td>6.0</td>\n",
       "      <td>1.0</td>\n",
       "      <td>sandstone</td>\n",
       "    </tr>\n",
       "    <tr>\n",
       "      <th>1</th>\n",
       "      <td>node</td>\n",
       "      <td>11.0</td>\n",
       "      <td>1.5</td>\n",
       "      <td>granite</td>\n",
       "    </tr>\n",
       "    <tr>\n",
       "      <th>2</th>\n",
       "      <td>node</td>\n",
       "      <td>12.0</td>\n",
       "      <td>3.0</td>\n",
       "      <td>sandstone</td>\n",
       "    </tr>\n",
       "    <tr>\n",
       "      <th>3</th>\n",
       "      <td>node</td>\n",
       "      <td>17.0</td>\n",
       "      <td>1.0</td>\n",
       "      <td>sandstone</td>\n",
       "    </tr>\n",
       "    <tr>\n",
       "      <th>4</th>\n",
       "      <td>node</td>\n",
       "      <td>12.0</td>\n",
       "      <td>2.0</td>\n",
       "      <td>limestone</td>\n",
       "    </tr>\n",
       "    <tr>\n",
       "      <th>5</th>\n",
       "      <td>link</td>\n",
       "      <td>24.0</td>\n",
       "      <td>1.2</td>\n",
       "      <td>NaN</td>\n",
       "    </tr>\n",
       "    <tr>\n",
       "      <th>6</th>\n",
       "      <td>node</td>\n",
       "      <td>8.0</td>\n",
       "      <td>2.0</td>\n",
       "      <td>NaN</td>\n",
       "    </tr>\n",
       "  </tbody>\n",
       "</table>\n",
       "</div>"
      ],
      "text/plain": [
       "        grid_element  element_id  boulder_size boulder_litho\n",
       "item_id                                                     \n",
       "0               node         6.0           1.0     sandstone\n",
       "1               node        11.0           1.5       granite\n",
       "2               node        12.0           3.0     sandstone\n",
       "3               node        17.0           1.0     sandstone\n",
       "4               node        12.0           2.0     limestone\n",
       "5               link        24.0           1.2           NaN\n",
       "6               node         8.0           2.0           NaN"
      ]
     },
     "execution_count": 14,
     "metadata": {},
     "output_type": "execute_result"
    }
   ],
   "source": [
    "dr_2.add_item(new_item={'grid_element': np.array(['link', 'node']),\n",
    "                        'element_id': np.array([24, 8])},\n",
    "              new_item_spec={'boulder_size': (['item_id'], np.array([1.2, 2.]))})\n",
    "\n",
    "dr_2.to_dataframe()"
   ]
  },
  {
   "cell_type": "markdown",
   "metadata": {},
   "source": [
    "Notice that we did not specify the lithologies of the new boulders, their recorded values are thus set as `NaN`. We can use the `set_data` method to report the boulder lithologies: "
   ]
  },
  {
   "cell_type": "code",
   "execution_count": 15,
   "metadata": {},
   "outputs": [
    {
     "data": {
      "text/html": [
       "<div>\n",
       "<style scoped>\n",
       "    .dataframe tbody tr th:only-of-type {\n",
       "        vertical-align: middle;\n",
       "    }\n",
       "\n",
       "    .dataframe tbody tr th {\n",
       "        vertical-align: top;\n",
       "    }\n",
       "\n",
       "    .dataframe thead th {\n",
       "        text-align: right;\n",
       "    }\n",
       "</style>\n",
       "<table border=\"1\" class=\"dataframe\">\n",
       "  <thead>\n",
       "    <tr style=\"text-align: right;\">\n",
       "      <th></th>\n",
       "      <th>grid_element</th>\n",
       "      <th>element_id</th>\n",
       "      <th>boulder_size</th>\n",
       "      <th>boulder_litho</th>\n",
       "    </tr>\n",
       "    <tr>\n",
       "      <th>item_id</th>\n",
       "      <th></th>\n",
       "      <th></th>\n",
       "      <th></th>\n",
       "      <th></th>\n",
       "    </tr>\n",
       "  </thead>\n",
       "  <tbody>\n",
       "    <tr>\n",
       "      <th>0</th>\n",
       "      <td>node</td>\n",
       "      <td>6.0</td>\n",
       "      <td>1.0</td>\n",
       "      <td>sandstone</td>\n",
       "    </tr>\n",
       "    <tr>\n",
       "      <th>1</th>\n",
       "      <td>node</td>\n",
       "      <td>11.0</td>\n",
       "      <td>1.5</td>\n",
       "      <td>granite</td>\n",
       "    </tr>\n",
       "    <tr>\n",
       "      <th>2</th>\n",
       "      <td>node</td>\n",
       "      <td>12.0</td>\n",
       "      <td>3.0</td>\n",
       "      <td>sandstone</td>\n",
       "    </tr>\n",
       "    <tr>\n",
       "      <th>3</th>\n",
       "      <td>node</td>\n",
       "      <td>17.0</td>\n",
       "      <td>1.0</td>\n",
       "      <td>sandstone</td>\n",
       "    </tr>\n",
       "    <tr>\n",
       "      <th>4</th>\n",
       "      <td>node</td>\n",
       "      <td>12.0</td>\n",
       "      <td>2.0</td>\n",
       "      <td>limestone</td>\n",
       "    </tr>\n",
       "    <tr>\n",
       "      <th>5</th>\n",
       "      <td>link</td>\n",
       "      <td>24.0</td>\n",
       "      <td>1.2</td>\n",
       "      <td>sandstone</td>\n",
       "    </tr>\n",
       "    <tr>\n",
       "      <th>6</th>\n",
       "      <td>node</td>\n",
       "      <td>8.0</td>\n",
       "      <td>2.0</td>\n",
       "      <td>granite</td>\n",
       "    </tr>\n",
       "  </tbody>\n",
       "</table>\n",
       "</div>"
      ],
      "text/plain": [
       "        grid_element  element_id  boulder_size boulder_litho\n",
       "item_id                                                     \n",
       "0               node         6.0           1.0     sandstone\n",
       "1               node        11.0           1.5       granite\n",
       "2               node        12.0           3.0     sandstone\n",
       "3               node        17.0           1.0     sandstone\n",
       "4               node        12.0           2.0     limestone\n",
       "5               link        24.0           1.2     sandstone\n",
       "6               node         8.0           2.0       granite"
      ]
     },
     "execution_count": 15,
     "metadata": {},
     "output_type": "execute_result"
    }
   ],
   "source": [
    "dr_2.set_data(data_variable='boulder_litho',\n",
    "              item_id=[5, 6],\n",
    "              new_value=['sandstone', 'granite'])\n",
    "dr_2.to_dataframe()"
   ]
  },
  {
   "cell_type": "markdown",
   "metadata": {},
   "source": [
    "We can use the method `calc_aggregate_value` to apply a function to a variable aggregated at grid elements. For example, we can calculate the mean size of boulders on each node:"
   ]
  },
  {
   "cell_type": "code",
   "execution_count": 16,
   "metadata": {},
   "outputs": [
    {
     "data": {
      "text/plain": [
       "array([ nan,  nan,  nan,  nan,  nan,  nan,  1. ,  nan,  2. ,  nan,  nan,\n",
       "        1.5,  2.5,  nan,  nan,  nan,  nan,  1. ,  nan,  nan,  nan,  nan,\n",
       "        nan,  nan,  nan])"
      ]
     },
     "execution_count": 16,
     "metadata": {},
     "output_type": "execute_result"
    }
   ],
   "source": [
    "mean_size = dr_2.calc_aggregate_value(func=np.mean,\n",
    "                                      data_variable='boulder_size')\n",
    "mean_size"
   ]
  },
  {
   "cell_type": "markdown",
   "metadata": {},
   "source": [
    "Notice that boulder #5 is on a link so it is not taken into account in this calculation."
   ]
  },
  {
   "cell_type": "code",
   "execution_count": 17,
   "metadata": {},
   "outputs": [
    {
     "data": {
      "image/png": "[encoded data removed]",
      "text/plain": [
       "<Figure size 432x288 with 2 Axes>"
      ]
     },
     "metadata": {
      "needs_background": "light"
     },
     "output_type": "display_data"
    }
   ],
   "source": [
    "# replace nans with 0:\n",
    "mean_size[np.isnan(mean_size)] = 0\n",
    "\n",
    "# show unfiltered mean sizes on the grid:\n",
    "imshow_grid(grid_2, mean_size)"
   ]
  },
  {
   "cell_type": "markdown",
   "metadata": {},
   "source": [
    "Before doing this calculation we could filter by lithology and only use the 'sandstone' boulders in the calculation:"
   ]
  },
  {
   "cell_type": "code",
   "execution_count": 18,
   "metadata": {},
   "outputs": [
    {
     "data": {
      "text/plain": [
       "array([ nan,  nan,  nan,  nan,  nan,  nan,   1.,  nan,  nan,  nan,  nan,\n",
       "        nan,   3.,  nan,  nan,  nan,  nan,   1.,  nan,  nan,  nan,  nan,\n",
       "        nan,  nan,  nan])"
      ]
     },
     "execution_count": 18,
     "metadata": {},
     "output_type": "execute_result"
    }
   ],
   "source": [
    "# define a filter array:\n",
    "filter_litho = (dr_2['boulder_litho'] == 'sandstone')\n",
    "\n",
    "# aggregate by node and apply function numpy.mean on boulder_size\n",
    "filtered_mean = dr_2.calc_aggregate_value(func=np.mean,\n",
    "                                          data_variable='boulder_size',\n",
    "                                          at='node',\n",
    "                                          filter_array=filter_litho)\n",
    "\n",
    "filtered_mean"
   ]
  },
  {
   "cell_type": "markdown",
   "metadata": {},
   "source": [
    "## Case 3. DataRecord with 2 dimensions: item_id and time\n",
    "\n",
    "We may want to record variables that have both dimensions `time` *and* `item_id`.\n",
    "\n",
    "In the previous example, some variables that characterize the items (boulders) may not vary with time, such as `boulder_lithology`. Although it can be interesting to keep track of the change in size through time. We will redefine the DataRecord such that the variable `boulder_size` varies among the items/boulders (identified by `item_id`) and through `time`. The variable `boulder_litho` varies only among the items/boulders and this lithogy variable does not vary through time."
   ]
  },
  {
   "cell_type": "code",
   "execution_count": 19,
   "metadata": {},
   "outputs": [
    {
     "data": {
      "text/plain": [
       "<xarray.DataRecord>\n",
       "Dimensions:        (item_id: 5, time: 1)\n",
       "Coordinates:\n",
       "  * time           (time) float64 0.0\n",
       "  * item_id        (item_id) int64 0 1 2 3 4\n",
       "Data variables:\n",
       "    grid_element   (item_id, time) object 'node' 'node' 'node' 'node' 'node'\n",
       "    element_id     (item_id, time) int64 6 11 12 17 12\n",
       "    boulder_size   (item_id, time) int64 10 4 8 3 5\n",
       "    boulder_litho  (item_id) <U9 'sandstone' 'granite' ... 'limestone'\n",
       "Attributes:\n",
       "    boulder_size:  m"
      ]
     },
     "execution_count": 19,
     "metadata": {},
     "output_type": "execute_result"
    }
   ],
   "source": [
    "grid_3 = RasterModelGrid((5, 5), (2, 2))\n",
    "\n",
    "initial_boulder_sizes_3 = np.array([[10], [4], [8], [3], [5]])\n",
    "# boulder_lithologies = np.array(['sandstone', 'granite', 'sandstone', 'sandstone', 'limestone']) #same as above, already run\n",
    "\n",
    "boulders_3 = {'grid_element' : 'node',\n",
    "            'element_id' : np.array([[6], [11], [12], [17], [12]])}\n",
    "\n",
    "dr_3 = DataRecord(grid_3,\n",
    "                  time=[0.],\n",
    "                  items=boulders_3,\n",
    "                  data_vars={'boulder_size' : (['item_id', 'time'], initial_boulder_sizes_3),\n",
    "                             'boulder_litho': (['item_id'], boulder_lithologies)}, \n",
    "                  attrs={'boulder_size' : 'm'})\n",
    "dr_3"
   ]
  },
  {
   "cell_type": "markdown",
   "metadata": {},
   "source": [
    "Note that the syntax to define the `initial_boulder_sizes_3` (as well as `element_id`) has changed: they are  number-of-items-by-1 arrays because they vary along both `time` and `item_id` (compared to `boulder_lithologies` which is just number-of-items long as it only varies along `item_id`)."
   ]
  },
  {
   "cell_type": "code",
   "execution_count": 20,
   "metadata": {},
   "outputs": [
    {
     "data": {
      "text/plain": [
       "((5,), (5,), (5, 1))"
      ]
     },
     "execution_count": 20,
     "metadata": {},
     "output_type": "execute_result"
    }
   ],
   "source": [
    "boulder_lithologies.shape, initial_boulder_sizes.shape, initial_boulder_sizes_3.shape"
   ]
  },
  {
   "cell_type": "markdown",
   "metadata": {},
   "source": [
    "Let's define a very simple erosion law for the boulders:\n",
    "\n",
    "$$\n",
    "\\begin{equation}\n",
    "\\frac{dD}{dt} = -k_{b} . D\n",
    "\\end{equation}\n",
    "$$\n",
    "\n",
    "where $D$ is the boulder diameter $[L]$ (this value represents the `boulder_size` variable), $t$ is time, and $k_{b}$ is the block erodibility $[L.T^{-1}]$.\n",
    "\n",
    "We will now model boulder erosion and use DataRecord to store their size through time."
   ]
  },
  {
   "cell_type": "code",
   "execution_count": 21,
   "metadata": {},
   "outputs": [
    {
     "name": "stdout",
     "output_type": "stream",
     "text": [
      "Done\n"
     ]
    }
   ],
   "source": [
    "dt = 100\n",
    "total_time = 100000\n",
    "\n",
    "time_index = 1\n",
    "\n",
    "for t in range(dt, total_time, dt):\n",
    "\n",
    "    # create a new time coordinate:\n",
    "    dr_3.add_record(time=np.array([t]))\n",
    "\n",
    "    # this propagates grid_element and element_id values forward in time (instead of the 'nan' default filling):\n",
    "    dr_3.ffill_grid_element_and_id() \n",
    "\n",
    "    for i in range(0, dr_3.number_of_items):\n",
    "        # value of block erodibility:\n",
    "        if dr_3['boulder_litho'].values[i] == 'limestone':\n",
    "            k_b = 10**-5\n",
    "        elif dr_3['boulder_litho'].values[i] == 'sandstone':\n",
    "            k_b = 3*10**-6\n",
    "        elif dr_3['boulder_litho'].values[i] == 'granite':\n",
    "            k_b = 3*10**-7\n",
    "        else:\n",
    "            print('Unknown boulder lithology')\n",
    "\n",
    "        dr_3['boulder_size'].values[i, time_index] = dr_3['boulder_size'].values[i, time_index-1] - k_b * dr_3['boulder_size'].values[i, time_index-1] * dt\n",
    "\n",
    "    time_index += 1\n",
    "\n",
    "print('Done')"
   ]
  },
  {
   "cell_type": "code",
   "execution_count": 22,
   "metadata": {},
   "outputs": [
    {
     "data": {
      "image/png": "[encoded data removed]",
      "text/plain": [
       "<Figure size 1080x576 with 2 Axes>"
      ]
     },
     "metadata": {
      "needs_background": "light"
     },
     "output_type": "display_data"
    }
   ],
   "source": [
    "figure(figsize=(15, 8))\n",
    "\n",
    "time = range(0, total_time, dt)\n",
    "boulder_size = dr_3['boulder_size'].values\n",
    "\n",
    "subplot(121)\n",
    "plot(time, boulder_size[1], label='granite')\n",
    "plot(time, boulder_size[3], label='sandstone')\n",
    "plot(time, boulder_size[-1], label='limestone')\n",
    "xlabel('Time (yr)')\n",
    "ylabel('Boulder size (m)')\n",
    "legend(loc='lower left')\n",
    "title('Boulder erosion by lithology')\n",
    "\n",
    "# normalized plots\n",
    "subplot(122)\n",
    "plot(time, boulder_size[1] / boulder_size[1, 0], label='granite')\n",
    "plot(time, boulder_size[2] / boulder_size[2, 0], label='sandstone')\n",
    "plot(time, boulder_size[-1] / boulder_size[-1, 0], label='limestone')\n",
    "xlabel('Time (yr)')\n",
    "ylabel('Boulder size normalized to size at t=0 (m)')\n",
    "legend(loc='lower left')\n",
    "title('Normalized boulder erosion by lithology')\n",
    "plt.show()"
   ]
  },
  {
   "cell_type": "markdown",
   "metadata": {},
   "source": [
    "## Other properties provided by DataRecord"
   ]
  },
  {
   "cell_type": "code",
   "execution_count": 23,
   "metadata": {},
   "outputs": [
    {
     "data": {
      "text/plain": [
       "['grid_element', 'element_id', 'boulder_size', 'boulder_litho']"
      ]
     },
     "execution_count": 23,
     "metadata": {},
     "output_type": "execute_result"
    }
   ],
   "source": [
    "dr_3.variable_names"
   ]
  },
  {
   "cell_type": "code",
   "execution_count": 24,
   "metadata": {},
   "outputs": [
    {
     "data": {
      "text/plain": [
       "5"
      ]
     },
     "execution_count": 24,
     "metadata": {},
     "output_type": "execute_result"
    }
   ],
   "source": [
    "dr_3.number_of_items "
   ]
  },
  {
   "cell_type": "code",
   "execution_count": 25,
   "metadata": {},
   "outputs": [
    {
     "data": {
      "text/plain": [
       "[0, 1, 2, 3, 4]"
      ]
     },
     "execution_count": 25,
     "metadata": {},
     "output_type": "execute_result"
    }
   ],
   "source": [
    "dr_3.item_coordinates"
   ]
  },
  {
   "cell_type": "code",
   "execution_count": 26,
   "metadata": {},
   "outputs": [
    {
     "data": {
      "text/plain": [
       "1000"
      ]
     },
     "execution_count": 26,
     "metadata": {},
     "output_type": "execute_result"
    }
   ],
   "source": [
    "dr_3.number_of_timesteps"
   ]
  },
  {
   "cell_type": "code",
   "execution_count": 27,
   "metadata": {},
   "outputs": [
    {
     "data": {
      "text/plain": [
       "[0.0, 20.0, 40.0, 60.0, 80.0]"
      ]
     },
     "execution_count": 27,
     "metadata": {},
     "output_type": "execute_result"
    }
   ],
   "source": [
    "dr_1.time_coordinates"
   ]
  },
  {
   "cell_type": "code",
   "execution_count": 28,
   "metadata": {},
   "outputs": [
    {
     "data": {
      "text/plain": [
       "0.0"
      ]
     },
     "execution_count": 28,
     "metadata": {},
     "output_type": "execute_result"
    }
   ],
   "source": [
    "dr_1.earliest_time"
   ]
  },
  {
   "cell_type": "code",
   "execution_count": 29,
   "metadata": {},
   "outputs": [
    {
     "data": {
      "text/plain": [
       "80.0"
      ]
     },
     "execution_count": 29,
     "metadata": {},
     "output_type": "execute_result"
    }
   ],
   "source": [
    "dr_1.latest_time"
   ]
  },
  {
   "cell_type": "code",
   "execution_count": 30,
   "metadata": {},
   "outputs": [
    {
     "data": {
      "text/plain": [
       "60.0"
      ]
     },
     "execution_count": 30,
     "metadata": {},
     "output_type": "execute_result"
    }
   ],
   "source": [
    "dr_1.prior_time"
   ]
  },
  {
   "cell_type": "markdown",
   "metadata": {},
   "source": [
    "# More on DataRecord\n",
    "\n",
    "DataRecord is the data structure on which the following Landlab components are based:\n",
    "- ClastTracker (coming soon)\n",
    "- SpeciesEvolver (coming soon)"
   ]
  }
 ],
 "metadata": {
  "kernelspec": {
   "display_name": "Python 3",
   "language": "python",
   "name": "python3"
  },
  "language_info": {
   "codemirror_mode": {
    "name": "ipython",
    "version": 3
   },
   "file_extension": ".py",
   "mimetype": "text/x-python",
   "name": "python",
   "nbconvert_exporter": "python",
   "pygments_lexer": "ipython3",
   "version": "3.6.6"
  }
 },
 "nbformat": 4,
 "nbformat_minor": 2
}
